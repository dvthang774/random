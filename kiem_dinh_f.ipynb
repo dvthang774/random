{
 "cells": [
  {
   "cell_type": "markdown",
   "metadata": {
    "id": "yAQlTbYkLq6Q"
   },
   "source": [
    "KIỂM ĐỊNH F\n",
    "\n",
    "Thay vì xây dựng giả thuyết với giá trị trung bình, người ta có thể xây dựng giả thuyết với phương sai (variance $\\sigma^{2}$). Trong trường hợp này, chúng ta sử dụng kiểm định F. Tóm tắt về kiểm định F như sau:\n",
    "\n",
    "Kiểm định một đuôi:\n",
    "\n",
    "$$H_{0}: \\sigma^{2} = \\sigma_{0}^{2} $$\n",
    "\n",
    "$$H_{a}: \\sigma^{2} < \\sigma_{0}^{2} (H_{a}: \\sigma^{2} > \\sigma_{0}^{2})$$ \n",
    "\n",
    "Giá trị thống kê kiểm định:\n",
    "\n",
    "$$ \\chi^{2} = \\frac{(n-1)s^{2}}{\\sigma_{0}^{2}}$$\n",
    "\n",
    "Vùng bác bỏ: $\\chi^{2} < \\chi_{(1 - \\alpha)}^{2}$  hoặc $\\chi^{2} > \\chi_{(1 - \\alpha)}^{2}$  khi $H_{a}: \\sigma^{2} > \\sigma_{0}^{2}$\n",
    "\n",
    "Ghi chú: \n",
    "\n",
    "- $\\chi^{2}$ - chi-square\n",
    "- (n - 1) mức tự do\n",
    "\n"
   ]
  },
  {
   "cell_type": "markdown",
   "metadata": {
    "id": "vxHt_ahULq6X"
   },
   "source": [
    "Kiểm định 2 đuôi:\n",
    "\n",
    "$$H_{0}: \\sigma^{2} = \\sigma_{0}^{2}$$\n",
    "$$H_{a}:\\sigma^{2} \\neq \\sigma_{0}^{2} $$\n",
    "\n",
    "Giá trị thống kê kiểm định:\n",
    "\n",
    "$$ \\chi^{2} = \\frac{(n-1)s^{2}}{\\sigma_{0}^{2}}$$\n",
    "\n",
    "Vùng bác bỏ: $\\chi^{2} < \\chi_{(1 - \\alpha/2)}^{2}$  hoặc $\\chi^{2} > \\chi_{(\\alpha/2)}^{2}$  \n",
    "Ghi chú: \n",
    "\n",
    "- $\\chi^{2}$ - chi-square\n",
    "- (n - 1) mức tự do"
   ]
  },
  {
   "cell_type": "markdown",
   "metadata": {
    "id": "l7uFhp47Lq6X"
   },
   "source": [
    "THỰC HÀNH KIỂM ĐỊNH F\n",
    "\n",
    "Bước 1: Sinh ngẫu nhiên số liệu\n",
    "\n",
    "Bước 2: Xây dựng giả thuyết \n",
    "\n",
    "Bước 3: Kiểm định Bartlett "
   ]
  },
  {
   "cell_type": "code",
   "execution_count": 11,
   "metadata": {
    "id": "og4aOn9nLq6Y"
   },
   "outputs": [],
   "source": [
    "import numpy as np\n",
    "import pandas as pd\n",
    "import random\n",
    "from scipy import stats\n",
    "from statsmodels.stats.weightstats import ztest\n",
    "import warnings\n",
    "import matplotlib.pyplot as plt\n",
    "import seaborn as sns\n",
    "%matplotlib inline"
   ]
  },
  {
   "cell_type": "code",
   "execution_count": null,
   "metadata": {
    "id": "qJDnJQiVLq6Z"
   },
   "outputs": [],
   "source": [
    "#Sinh ngẫu nhiên 1000 mẫu tuân theo phân phối chuẩn có trung bình mẫu là 7.5 và độ lệch chuẩn là 0.25\n",
    "mean_1 = 7.5\n",
    "std_1 = 0.25\n",
    "N_1 = 1000\n",
    "samples_1 = np.random.normal(mean_1, std_1, N_1)"
   ]
  },
  {
   "cell_type": "code",
   "execution_count": null,
   "metadata": {
    "id": "pDg0lK_ZLq6Z",
    "outputId": "cf4287f6-10cd-4c99-a69a-22c111e7a64e"
   },
   "outputs": [
    {
     "name": "stdout",
     "output_type": "stream",
     "text": [
      "[7.80435077 7.39173474 7.88538046 7.36791265 7.47550623 7.47039075\n",
      " 7.42038182 7.785741   8.17327938 7.32138352]\n"
     ]
    }
   ],
   "source": [
    "#In ra 10 phần tử đầu tiên\n",
    "print(samples_1[:10])"
   ]
  },
  {
   "cell_type": "code",
   "execution_count": null,
   "metadata": {
    "id": "vJzVN7LvLq6a"
   },
   "outputs": [],
   "source": [
    "#Sinh ngẫu nhiên 900 mẫu tuân theo phân phối chuẩn có trung bình mẫu là 7 và độ lệch chuẩn là 0.2\n",
    "mean_2= 7\n",
    "std_2 = 0.2\n",
    "N_2 = 900\n",
    "samples_2 = np.random.normal(mean_2, std_2, N_2)"
   ]
  },
  {
   "cell_type": "code",
   "execution_count": null,
   "metadata": {
    "id": "qnAsFJ22Lq6a",
    "outputId": "7b6a2fa0-7c76-49ca-ec82-83769c3253dd"
   },
   "outputs": [
    {
     "name": "stdout",
     "output_type": "stream",
     "text": [
      "[6.97392727 6.7680331  6.9765569  7.20116716 6.70116584 7.11348431\n",
      " 7.13056472 7.28356771 7.13143519 7.12268851]\n"
     ]
    }
   ],
   "source": [
    "#In ra 10 phần tử đầu tiên\n",
    "print(samples_2[:10])"
   ]
  },
  {
   "cell_type": "markdown",
   "metadata": {
    "id": "c2NT8zouLq6b"
   },
   "source": [
    "Xây dựng giả thuyết:\n",
    "$$H_{0}: \\sigma_{1}^{2} = \\sigma_{2}^{2}$$\n",
    "$$H_{a}: \\sigma_{1}^{2} \\neq \\sigma_{2}^{2}$$"
   ]
  },
  {
   "cell_type": "code",
   "execution_count": null,
   "metadata": {
    "id": "XYKaQ09DLq6b",
    "outputId": "9e2ff3d1-80a9-484f-b1f3-274274b0edc8"
   },
   "outputs": [
    {
     "name": "stdout",
     "output_type": "stream",
     "text": [
      "Stat value:  50.71159890972865 ; p-value:  1.0698543599175272e-12\n"
     ]
    }
   ],
   "source": [
    "#Kiểm định Bartlett\n",
    "stat_value, p_value = stats.bartlett(samples_1, samples_2)\n",
    "print(\"Stat value: \", stat_value, \"; p-value: \", p_value)"
   ]
  },
  {
   "cell_type": "code",
   "execution_count": null,
   "metadata": {
    "id": "1cybRsWPLq6c",
    "outputId": "7424bdbe-e98e-4fa5-8197-6d1345216195"
   },
   "outputs": [
    {
     "name": "stdout",
     "output_type": "stream",
     "text": [
      "Có bằng chứng để bác bỏ giả thuyết H0\n"
     ]
    }
   ],
   "source": [
    "alpha = 0.05\n",
    "if(p_value <  alpha):\n",
    "  print(\"Có bằng chứng để bác bỏ giả thuyết H0\")\n",
    "else:\n",
    "  print(\"Chưa có bằng chứng để bác bỏ giả thuyết H0\")"
   ]
  },
  {
   "cell_type": "markdown",
   "metadata": {
    "id": "TVOBHeUHLq6c"
   },
   "source": [
    "BÀI TẬP\n",
    "\n",
    "Bạn hãy thử viết code tiến hành kiểm định F 1 đuôi?\n",
    "\n",
    "Gợi ý: Thử tìm kiếm ví dụ về kiểm dịnh F 1 đuôi trong ngôn ngữ lập trình Python & R để nhận thấy sự khác biệt."
   ]
  },
  {
   "cell_type": "code",
   "execution_count": 4,
   "metadata": {
    "id": "ypP8DQ3OLq6c"
   },
   "outputs": [
    {
     "name": "stdout",
     "output_type": "stream",
     "text": [
      "[7.27598062 7.2048412  7.29100875 7.54658877 7.58221363 7.43037332\n",
      " 7.34159749 7.40804834 7.32152685 7.21195317]\n"
     ]
    }
   ],
   "source": [
    "#Code here\n",
    "#Sinh ngẫu nhiên 1000 mẫu tuân theo phân phối chuẩn có trung bình mẫu là 7.5 và độ lệch chuẩn là 0.25\n",
    "mean_1 = 7.5\n",
    "std_1 = 0.25\n",
    "N_1 = 1000\n",
    "samples_1 = np.random.normal(mean_1, std_1, N_1)\n",
    "print(samples_1[:10])"
   ]
  },
  {
   "cell_type": "code",
   "execution_count": 6,
   "metadata": {},
   "outputs": [
    {
     "name": "stdout",
     "output_type": "stream",
     "text": [
      "[7.33853507 6.84604303 6.95111522 7.13203841 6.55422287 6.65902653\n",
      " 7.19764361 6.99065292 6.66661809 6.80622391]\n"
     ]
    }
   ],
   "source": [
    "#Sinh ngẫu nhiên 900 mẫu tuân theo phân phối chuẩn có trung bình mẫu là 7 và độ lệch chuẩn là 0.2\n",
    "mean_2= 7\n",
    "std_2 = 0.2\n",
    "N_2 = 900\n",
    "samples_2 = np.random.normal(mean_2, std_2, N_2)\n",
    "print(samples_2[:10])"
   ]
  },
  {
   "cell_type": "code",
   "execution_count": 14,
   "metadata": {},
   "outputs": [],
   "source": [
    "def Var(data):\n",
    "    n = len(data)\n",
    "    mean = sum(data) / n\n",
    "    deviations = [(x - mean) ** 2 for x in data]\n",
    "    variance = sum(deviations) / n\n",
    "    return variance"
   ]
  },
  {
   "cell_type": "code",
   "execution_count": 18,
   "metadata": {},
   "outputs": [
    {
     "name": "stdout",
     "output_type": "stream",
     "text": [
      "Var_1:  0.06285023435031512 Var_2:  0.041502552013591654\n",
      "F:  1.514370353170868 p_value:  [1.]\n",
      "Có bằng chứng để bác bỏ giả thuyết H0\n"
     ]
    }
   ],
   "source": [
    "F = Var(samples_1) / Var(samples_2)\n",
    "df1 = len(samples_1) - 1, \n",
    "df2 = len(samples_2) - 1\n",
    "alpha = 0.05\n",
    "p_value = stats.f.cdf(F, df1, df2)\n",
    "print('Var_1: ',Var(samples_1),'Var_2: ', Var(samples_2))\n",
    "print('F: ', F, 'p_value: ', p_value)\n",
    "if p_value > alpha:\n",
    "      print(\"Có bằng chứng để bác bỏ giả thuyết H0\")\n",
    "else:\n",
    "  print(\"Chưa có bằng chứng để bác bỏ giả thuyết H0\")\n",
    "    "
   ]
  },
  {
   "cell_type": "code",
   "execution_count": null,
   "metadata": {},
   "outputs": [],
   "source": []
  }
 ],
 "metadata": {
  "colab": {
   "name": "kiem-dinh-f.ipynb",
   "provenance": []
  },
  "kernelspec": {
   "display_name": "Python 3",
   "language": "python",
   "name": "python3"
  },
  "language_info": {
   "codemirror_mode": {
    "name": "ipython",
    "version": 3
   },
   "file_extension": ".py",
   "mimetype": "text/x-python",
   "name": "python",
   "nbconvert_exporter": "python",
   "pygments_lexer": "ipython3",
   "version": "3.8.5"
  }
 },
 "nbformat": 4,
 "nbformat_minor": 1
}
