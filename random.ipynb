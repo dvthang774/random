{
 "cells": [
  {
   "cell_type": "markdown",
   "metadata": {
    "id": "7tTpfkMQUwRr"
   },
   "source": [
    "Sử dụng thư viện Numpy\n",
    "\n",
    "1. Sinh mẫu ngẫu nhiên bằng hàm arange trong khoảng [-15, 27] với khoảng cách là 0.7 và in kết quả ra màn hình"
   ]
  },
  {
   "cell_type": "code",
   "execution_count": 9,
   "metadata": {
    "id": "1PfjGOFDUwRs"
   },
   "outputs": [
    {
     "name": "stdout",
     "output_type": "stream",
     "text": [
      "[-15.  -14.3 -13.6 -12.9 -12.2 -11.5 -10.8 -10.1  -9.4  -8.7  -8.   -7.3\n",
      "  -6.6  -5.9  -5.2  -4.5  -3.8  -3.1  -2.4  -1.7  -1.   -0.3   0.4   1.1\n",
      "   1.8   2.5   3.2   3.9   4.6   5.3   6.    6.7   7.4   8.1   8.8   9.5\n",
      "  10.2  10.9  11.6  12.3  13.   13.7  14.4  15.1  15.8  16.5  17.2  17.9\n",
      "  18.6  19.3  20.   20.7  21.4  22.1  22.8  23.5  24.2  24.9  25.6  26.3\n",
      "  27. ]\n"
     ]
    }
   ],
   "source": [
    "#Code \n",
    "import numpy as np\n",
    "from scipy import stats\n",
    "\n",
    "samples_1 = np.arange(-15, 27, 0.7)\n",
    "print(sample_1)"
   ]
  },
  {
   "cell_type": "markdown",
   "metadata": {
    "id": "KubTD2I1UwRs"
   },
   "source": [
    "2. Sinh mẫu ngẫu nhiên theo phân phối chuẩn với mean = 2.7 std = 1.2 và size = 40\n",
    "In kết quả ra màn hình"
   ]
  },
  {
   "cell_type": "code",
   "execution_count": 2,
   "metadata": {
    "id": "ze39UHtEUwRt"
   },
   "outputs": [
    {
     "name": "stdout",
     "output_type": "stream",
     "text": [
      "[ 2.63224416  2.39373024  3.50812688  1.45370353  3.9495194   3.22246884\n",
      "  3.58950706  3.03570598  2.38783279  1.99161576  4.13785724  3.13823013\n",
      "  3.04166886  2.30320037  2.31913531  2.12339561  2.72382192  3.95968859\n",
      "  0.82413776  3.67956925  2.1948713   3.30739048  2.72482236  2.88185719\n",
      "  3.16003487  2.81348362  2.67672811  3.12260795 -0.06161675  3.20095586\n",
      "  0.65876207  4.48767106  3.81064086  2.5553252   2.98025521  0.98319695\n",
      "  3.08093653  2.30737731  2.03608969  3.08548617]\n"
     ]
    }
   ],
   "source": [
    "#Code\n",
    "samples_2 = samples = np.random.normal(2.7, 1.2, 40)\n",
    "print(samples_2)"
   ]
  },
  {
   "cell_type": "markdown",
   "metadata": {
    "id": "REViqanmUwRt"
   },
   "source": [
    "3. Sinh mẫu ngẫu nhiên từ vector ['Viet Nam', 'Britain', 'France', 'Russia', 'Singapore'] \n",
    "\n",
    "với kích thước là 17 theo phân phối chuẩn"
   ]
  },
  {
   "cell_type": "code",
   "execution_count": 5,
   "metadata": {
    "id": "D2qCZjc1UwRu"
   },
   "outputs": [
    {
     "name": "stdout",
     "output_type": "stream",
     "text": [
      "['Singapore' 'Viet Nam' 'Britain' 'Singapore' 'Russia' 'France' 'Russia'\n",
      " 'Russia' 'Singapore' 'Britain' 'Viet Nam' 'France' 'Russia' 'Britain'\n",
      " 'France' 'Viet Nam' 'Singapore']\n"
     ]
    }
   ],
   "source": [
    "#Code\n",
    "vec = ['Viet Nam', 'Britain', 'France', 'Russia', 'Singapore'] \n",
    "samples_3 = np.random.choice(vec, 17)\n",
    "print(samples_3)"
   ]
  },
  {
   "cell_type": "markdown",
   "metadata": {
    "id": "HXSI6RXzUwRu"
   },
   "source": [
    "4. Sinh mẫu ngẫu nhiên ở câu 3 nhưng không theo phân phối chuẩn mà theo 1 vector đặc tả giá trị xác suất do bạn chọn"
   ]
  },
  {
   "cell_type": "code",
   "execution_count": 7,
   "metadata": {
    "id": "1VdAzapWUwRu"
   },
   "outputs": [
    {
     "name": "stdout",
     "output_type": "stream",
     "text": [
      "['Viet Nam' 'Viet Nam' 'Viet Nam' 'Viet Nam' 'Viet Nam' 'Viet Nam'\n",
      " 'Britain' 'Viet Nam' 'Russia' 'Viet Nam' 'Britain' 'Viet Nam' 'France'\n",
      " 'Russia' 'Viet Nam' 'Viet Nam' 'Viet Nam']\n"
     ]
    }
   ],
   "source": [
    "#Code\n",
    "samples_4 = np.random.choice(vec, 17, p=[0.6,0.1,0.1,0.1,0.1])\n",
    "print(samples_4)"
   ]
  },
  {
   "cell_type": "markdown",
   "metadata": {
    "id": "-fn3P4DIUwRu"
   },
   "source": [
    "Sử dụng thư việc scipy.stats để sinh mẫu ngẫu nhiên\n",
    "\n",
    "1. Sinh mẫu ngẫu nhiên theo phân phối chuẩn với mean = 12.7, std = 2.6 và size = 30. In kết quả ra màn hình"
   ]
  },
  {
   "cell_type": "code",
   "execution_count": 10,
   "metadata": {
    "id": "K9VO6KcoUwRv"
   },
   "outputs": [
    {
     "name": "stdout",
     "output_type": "stream",
     "text": [
      "[ 9.90656784 11.5556705  11.42545129 16.86624483 12.11695552  7.82181395\n",
      " 11.11334281 15.08704626 12.20166529 14.62762137 12.90686093 15.80675467\n",
      " 13.83513477  9.34874594 12.44886331  9.23158357 13.30134423 17.08831798\n",
      " 12.92872463 12.58928099 18.26074916 10.66392199 14.7295856  12.00468922\n",
      " 12.82033842 10.40718022 11.5627351  14.72785512  9.34719018  9.86853254]\n"
     ]
    }
   ],
   "source": [
    "#Code\n",
    "samples_5 = stats.norm.rvs(loc=12.7, scale=2.6, size=30)\n",
    "print(samples_5)"
   ]
  },
  {
   "cell_type": "markdown",
   "metadata": {
    "id": "yA94Lv0wUwRv"
   },
   "source": [
    "2. Hãy sinh một mẫu ngẫu nhiên theo phân phối Poisson"
   ]
  },
  {
   "cell_type": "code",
   "execution_count": 11,
   "metadata": {
    "id": "-8n6FEUhUwRv"
   },
   "outputs": [
    {
     "data": {
      "text/plain": [
       "array([15, 12, 18, 12, 18, 15, 12, 15, 13, 13, 13, 12, 16, 16, 13, 15, 16,\n",
       "       15, 16, 13, 14, 13, 17, 13, 18, 12, 13, 17, 14, 16])"
      ]
     },
     "execution_count": 11,
     "metadata": {},
     "output_type": "execute_result"
    }
   ],
   "source": [
    "#Code\n",
    "samples_6 = stats.poisson.rvs(loc=12.7, mu=2.6, size=30)\n",
    "samples_6"
   ]
  },
  {
   "cell_type": "code",
   "execution_count": null,
   "metadata": {
    "id": "MSsYDKvDUwRw"
   },
   "outputs": [],
   "source": []
  }
 ],
 "metadata": {
  "colab": {
   "name": "bai-tap-sinh-mau-ngau-nhien.ipynb",
   "provenance": []
  },
  "kernelspec": {
   "display_name": "Python 3",
   "language": "python",
   "name": "python3"
  },
  "language_info": {
   "codemirror_mode": {
    "name": "ipython",
    "version": 3
   },
   "file_extension": ".py",
   "mimetype": "text/x-python",
   "name": "python",
   "nbconvert_exporter": "python",
   "pygments_lexer": "ipython3",
   "version": "3.8.5"
  }
 },
 "nbformat": 4,
 "nbformat_minor": 1
}
