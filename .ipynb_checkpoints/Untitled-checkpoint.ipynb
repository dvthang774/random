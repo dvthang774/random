{
 "cells": [
  {
   "cell_type": "code",
   "execution_count": null,
   "metadata": {},
   "outputs": [],
   "source": [
    "#Các thư viên và hàm:\n",
    "import numpy as np\n",
    "import pandas as pd\n",
    "from matplotlib import pyplot as plt\n",
    "import seaborn as sns\n",
    "from scipy import stats\n",
    "import statsmodels.api as sm\n",
    "%matplotlib inline\n",
    "plt.rcParams['figure.figsize'] =  [16,9]\n",
    "plt.rcParams['figure.dpi'] = 100\n",
    "plt.rcParams.update({'font.size': 18})\n",
    "def hist(inp):\n",
    "    plt.figure()\n",
    "    ax = sns.distplot(inp)\n",
    "    plt.axvline(np.mean(inp), color=\"r\", linestyle=\"dashed\", linewidth=5)\n",
    "    _, max_ = plt.ylim()\n",
    "    plt.text(\n",
    "        inp.mean() + inp.mean() / 10,\n",
    "        max_ - max_ / 10,\n",
    "        \"Mean: {:.2f}\".format(inp.mean()),\n",
    "    )\n",
    "    return plt.figure\n",
    "def standadize(data):\n",
    "    mean = np.mean(data)\n",
    "    std = np.std(data)\n",
    "    return (data - mean)/std"
   ]
  },
  {
   "cell_type": "code",
   "execution_count": null,
   "metadata": {},
   "outputs": [],
   "source": [
    "df = pd.read_csv('Inc_Exp_Data.csv')"
   ]
  },
  {
   "cell_type": "code",
   "execution_count": null,
   "metadata": {},
   "outputs": [],
   "source": []
  }
 ],
 "metadata": {
  "kernelspec": {
   "display_name": "Python 3",
   "language": "python",
   "name": "python3"
  },
  "language_info": {
   "codemirror_mode": {
    "name": "ipython",
    "version": 3
   },
   "file_extension": ".py",
   "mimetype": "text/x-python",
   "name": "python",
   "nbconvert_exporter": "python",
   "pygments_lexer": "ipython3",
   "version": "3.8.5"
  }
 },
 "nbformat": 4,
 "nbformat_minor": 4
}
