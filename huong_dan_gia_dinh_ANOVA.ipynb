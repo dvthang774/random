{
 "cells": [
  {
   "cell_type": "markdown",
   "metadata": {
    "id": "60utFShQFL90"
   },
   "source": [
    "PHÂN TÍCH ANOVA MỘT CHIỀU\n",
    "\n",
    "Phân tích ANOVA chấp nhận các giả định sau:\n",
    "\n",
    "(1) Tất cả các nhóm đều độc lập với nhau\n",
    "\n",
    "(2) Dữ liệu của mỗi nhóm đều tuân theo phân phối chuẩn. Tính chất này có thể được kiểm định bằng phương pháp Shapiro-Wilks.\n",
    "\n",
    "(3) Phương sai (variance) của các nhóm bằng nhau. Tính chất này có thể được kiểm định bằng phương pháp kiểm định Bartlett hay Levene.\n",
    "\n",
    "Nếu dữ liệu hiện có thỏa mãn các tính chất trên thì chúng ta mới tiến hành kiểm định ANOVA. Do vậy trước khi tiến hành kiểm định ANOVA, chúng ta cần thực hiện kiểm tra tập dữ liệu cần thỏa mãn 3 tính chất trên.\n",
    "    "
   ]
  },
  {
   "cell_type": "code",
   "execution_count": 1,
   "metadata": {},
   "outputs": [],
   "source": [
    "#Thư viện\n",
    "from scipy import stats\n",
    "from scipy.stats import f_oneway"
   ]
  },
  {
   "cell_type": "code",
   "execution_count": 2,
   "metadata": {
    "id": "m940_lujFL99"
   },
   "outputs": [
    {
     "name": "stdout",
     "output_type": "stream",
     "text": [
      "[16.54283194 17.06575089 13.91765518 14.85741155 12.17030508 14.12486974\n",
      "  9.87483782 17.48561571 18.72057265 12.47111534]\n"
     ]
    }
   ],
   "source": [
    "#Bước 1: Hãy tạo một tập dữ liệu mẫu sample_1 với kích thước 100 tuân theo phân phối chuẩn\n",
    "sample_1 =  stats.norm.rvs(loc = 15, scale = 2, size = 100)\n",
    "print(sample_1[:10])"
   ]
  },
  {
   "cell_type": "code",
   "execution_count": 3,
   "metadata": {
    "id": "IX5xzyn0FL9_"
   },
   "outputs": [
    {
     "name": "stdout",
     "output_type": "stream",
     "text": [
      "[18 18 20 18 18 18 18 19 19 22]\n"
     ]
    }
   ],
   "source": [
    "#Bước 2: hãy tạo tập dữ liệu mẫu sample_2 với kích thước 100 tuân theo phân phối Poisson\n",
    "sample_2 = stats.poisson.rvs(loc = 17, mu = 2, size=1000)\n",
    "print(sample_2[:10])"
   ]
  },
  {
   "cell_type": "markdown",
   "metadata": {
    "id": "STG4DAdVFL9_"
   },
   "source": [
    "Hãy tham khảo các hướng dẫn sau để kiểm định tính chất thứ 2 bằng phương pháp Shapiro-Wilks đối với sample_1 và sample_2\n",
    "\n",
    "(1) [Tài liệu tham khảo scipy](https://docs.scipy.org/doc/scipy/reference/generated/scipy.stats.shapiro.html)\n",
    "\n",
    "(2) [Hướng dẫn cụ thể của statology](https://www.statology.org/shapiro-wilk-test-python/)"
   ]
  },
  {
   "cell_type": "code",
   "execution_count": 11,
   "metadata": {
    "id": "m3K7eBB1FL-A"
   },
   "outputs": [
    {
     "name": "stdout",
     "output_type": "stream",
     "text": [
      "sample_1\n",
      "statistic =  0.985980749130249\n",
      "pvalue =  0.372802197933197\n",
      "Reject H0 0.372802197933197\n",
      "--------------------------------------------------\n",
      "sample_2\n",
      "statistic =  0.9225741624832153\n",
      "pvalue =  3.008307051890652e-22\n",
      "Reject H0 3.008307051890652e-22\n"
     ]
    }
   ],
   "source": [
    "#Code kiểm định tính chất thứ 2 của sample_1 và sample_2\n",
    "\n",
    "print('sample_1')\n",
    "st1, p1 = stats.shapiro(sample_1)\n",
    "print('statistic = ',st1)\n",
    "print('pvalue = ',p1)\n",
    "\n",
    "\n",
    "if (p<0.05):\n",
    "    print('Reject H0', p1)\n",
    "else:\n",
    "    print('Cant Reject H0', p1)\n",
    "\n",
    "print('-'*50)\n",
    "print('sample_2')\n",
    "st2, p2 = stats.shapiro(sample_2)\n",
    "print('statistic = ',st2)\n",
    "print('pvalue = ',p2)\n",
    "\n",
    "\n",
    "if (p2<0.05):\n",
    "    print('Reject H0', p2)\n",
    "else:\n",
    "    print('Cant Reject H0', p2)"
   ]
  },
  {
   "cell_type": "markdown",
   "metadata": {
    "id": "sXF2w-eZFL-B"
   },
   "source": [
    "Hãy tham khảo các hướng dẫn sau để kiểm định tính chất thứ 3 bằng kiểm định Bartlett hoặc kiểm định Levene\n",
    "\n",
    "(1) [Hướng dẫn tổng quát](https://www.marsja.se/levenes-bartletts-test-of-equality-homogeneity-of-variance-in-python/)\n",
    "\n",
    "(2) [Hướng dẫn ở stackoverflow](https://stackoverflow.com/questions/36141254/how-to-test-for-homoscedasticity-having-the-same-population-variance-in-python)\n",
    "\n",
    "(3) Sử dụng bài giảng về kiểm định Bartlett và Levene ở buổi trước"
   ]
  },
  {
   "cell_type": "code",
   "execution_count": 5,
   "metadata": {
    "id": "VLHeI8gsFL-C"
   },
   "outputs": [
    {
     "name": "stdout",
     "output_type": "stream",
     "text": [
      "statistic by Bartlett =  25.867374650426402\n",
      "pvalue by Bartlett =  3.6569809575568195e-07\n",
      "--------------------------------------------------\n",
      "statistic by levene =  32.743565652098894\n",
      "pvalue by levene =  1.355443821499255e-08\n"
     ]
    }
   ],
   "source": [
    "#Code kiểm định tính đồng nhất về phương sai của các nhóm\n",
    "\n",
    "st12, p12 = stats.bartlett(sample_1, sample_2)\n",
    "print('statistic by Bartlett = ',st12)\n",
    "print('pvalue by Bartlett = ',p12)\n",
    "\n",
    "print('-'*50)\n",
    "\n",
    "st3, p3 = stats.levene(sample_1, sample_2)\n",
    "print('statistic by levene = ',st3)\n",
    "print('pvalue by levene = ',p3)"
   ]
  },
  {
   "cell_type": "code",
   "execution_count": 9,
   "metadata": {
    "id": "Fk0yfh7XFL-C"
   },
   "outputs": [
    {
     "name": "stdout",
     "output_type": "stream",
     "text": [
      "pvalue by Bartlett =  3.6569809575568195e-07\n",
      "Reject H0 3.6569809575568195e-07\n"
     ]
    }
   ],
   "source": [
    "\n",
    "print('pvalue by Bartlett = ',p12)\n",
    "if (p12<0.05):\n",
    "    print('Reject H0', p12)\n",
    "else:\n",
    "    print('Cant Reject H0', p12)\n"
   ]
  },
  {
   "cell_type": "code",
   "execution_count": 10,
   "metadata": {},
   "outputs": [
    {
     "name": "stdout",
     "output_type": "stream",
     "text": [
      "pvalue by levene =  1.355443821499255e-08\n",
      "Reject H0 1.355443821499255e-08\n"
     ]
    }
   ],
   "source": [
    "print('pvalue by levene = ',p3)\n",
    "if (p3<0.05):\n",
    "    print('Reject H0', p3)\n",
    "else:\n",
    "    print('Cant Reject H0', p3)"
   ]
  },
  {
   "cell_type": "code",
   "execution_count": 8,
   "metadata": {},
   "outputs": [
    {
     "name": "stdout",
     "output_type": "stream",
     "text": [
      "P_value =  5.294411007309353e-130\n",
      "Reject H0 5.294411007309353e-130\n"
     ]
    }
   ],
   "source": [
    "#code kiểm định anova\n",
    "st , p = f_oneway(sample_1, sample_2)\n",
    "print('P_value = ',p)\n",
    "if (p<0.05):\n",
    "    print('Reject H0', p)\n",
    "else:\n",
    "    print('Cant Reject H0', p)"
   ]
  },
  {
   "cell_type": "code",
   "execution_count": null,
   "metadata": {},
   "outputs": [],
   "source": []
  },
  {
   "cell_type": "code",
   "execution_count": null,
   "metadata": {},
   "outputs": [],
   "source": []
  }
 ],
 "metadata": {
  "colab": {
   "name": "huong-dan-gia-dinh-ANOVA.ipynb",
   "provenance": []
  },
  "kernelspec": {
   "display_name": "Python 3",
   "language": "python",
   "name": "python3"
  },
  "language_info": {
   "codemirror_mode": {
    "name": "ipython",
    "version": 3
   },
   "file_extension": ".py",
   "mimetype": "text/x-python",
   "name": "python",
   "nbconvert_exporter": "python",
   "pygments_lexer": "ipython3",
   "version": "3.8.5"
  }
 },
 "nbformat": 4,
 "nbformat_minor": 1
}
