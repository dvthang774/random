{
 "cells": [
  {
   "cell_type": "code",
   "execution_count": 1,
   "metadata": {},
   "outputs": [],
   "source": [
    "import numpy as np\n",
    "import pandas as pd\n",
    "import random\n",
    "from scipy import stats\n",
    "from statsmodels.stats.weightstats import ztest\n",
    "import warnings\n",
    "import matplotlib.pyplot as plt\n",
    "import seaborn as sns\n",
    "from scipy import stats as st\n",
    "%matplotlib inline"
   ]
  },
  {
   "cell_type": "markdown",
   "metadata": {
    "id": "ZNmsUVvxHmF6"
   },
   "source": [
    "XÂY DỰNG CHƯƠNG TRÌNH KIỂM ĐỊNH Z (HOẶC T) CHO CÁC BÀI TẬP SAU\n",
    "\n",
    "Gợi ý:\n",
    "\n",
    "- Số liệu được sinh ngẫu nhiên theo phân phối chuẩn\n",
    "- Sử dụng gói phần mềm statsmodels để tiến hành kiểm định\n",
    "- Đối với các bài tập kiểm định giả thuyết thì sinh viên cần phát biểu các giả thuyết (bằng tiếng Việt) $H_{0}$ và $H_{a}$ trước khi lập trình kiểm định"
   ]
  },
  {
   "cell_type": "markdown",
   "metadata": {
    "id": "ouaS51E9HmGB"
   },
   "source": [
    "Bài 1: You’re a Q/C inspector for Gallo. The sample standard deviation for 2-liter bottles is .05 liters.  A random sample of 100 bottles showed sasmple mean = 1.99 liters.  What is the 90%  confidence interval estimate of the true mean amount in 2-liter bottles? "
   ]
  },
  {
   "cell_type": "markdown",
   "metadata": {
    "id": "gDYU0mqhHmGC"
   },
   "source": [
    "\n",
    "\n",
    "Ho: μ = 2\n",
    "H1: μ ≠ 2\n",
    "σ = 0.05\n",
    "α = 0.1\n",
    "n = 100"
   ]
  },
  {
   "cell_type": "code",
   "execution_count": 4,
   "metadata": {},
   "outputs": [
    {
     "name": "stdout",
     "output_type": "stream",
     "text": [
      "(1.9177573186524264, 2.082242681347574)\n",
      "z =  -2.0150351172267116 p =  0.9780495151676234\n",
      "Chưa có bằng chứng để bác bỏ giả thuyết H0\n"
     ]
    }
   ],
   "source": [
    "#Code here\n",
    "#kiểm định\n",
    "samples = np.random.normal(1.99, 0.05, 100)\n",
    "null_mean=2\n",
    "alpha = 0.1\n",
    "sigma = 0.05\n",
    "print(stats.norm.interval(1-alpha, loc=null_mean, scale=sigma))\n",
    "#Kiểm định z\n",
    "ztest_Score, p_value= ztest(samples, value = null_mean, alternative='larger')\n",
    "print('z = ', ztest_Score,\n",
    "       'p = ', p_value)\n",
    "if(p_value <  alpha/2):\n",
    "  print(\"Có bằng chứng để bác bỏ giả thuyết H0\")\n",
    "else:\n",
    "  print(\"Chưa có bằng chứng để bác bỏ giả thuyết H0\")"
   ]
  },
  {
   "cell_type": "markdown",
   "metadata": {
    "id": "XLTlLkpzHmGC"
   },
   "source": [
    "Bài 2: You’re a time study analyst in manufacturing.  You’ve recorded the following task times (min.): 3.6, 4.2, 4.0, 3.5, 3.8, 3.1. What is the 90% confidence interval estimate of the population mean task time? "
   ]
  },
  {
   "cell_type": "code",
   "execution_count": 7,
   "metadata": {
    "id": "_b1CxxMSHmGD"
   },
   "outputs": [
    {
     "name": "stdout",
     "output_type": "stream",
     "text": [
      "(3.114592303730054, 4.285407696269947)\n",
      "t =  0.0 , p =  1.0\n",
      "Chưa có bằng chứng để bác bỏ giả thuyết H0\n"
     ]
    }
   ],
   "source": [
    "#Code here\n",
    "a = np.array([3.6, 4.2, 4.0, 3.5, 3.8, 3.1])\n",
    "# xác định các thông số:\n",
    "null_mean = np.mean(a)\n",
    "alpha = 0.1\n",
    "sigma = np.std(a)\n",
    "print(stats.norm.interval(1-alpha, loc=null_mean, scale=sigma))\n",
    "#Kiểm định t\n",
    "ttest_Score, p_value = st.ttest_1samp(a, null_mean)\n",
    "print('t = ',ttest_Score,', p = ',p_value)\n",
    "if(p_value <  alpha):\n",
    "  print(\"Có bằng chứng để bác bỏ giả thuyết H0\")\n",
    "else:\n",
    "  print(\"Chưa có bằng chứng để bác bỏ giả thuyết H0\")"
   ]
  },
  {
   "cell_type": "markdown",
   "metadata": {
    "id": "3ruR4QkdHmGD"
   },
   "source": [
    "Bài 3: Does an average box of cereal contain 368 grams of cereal?  A random sample of 25 boxes had $\\overline{\\rm x}$ = 372.5.  The company has specified $\\sigma$ to be 25 grams.  Test at the .05 level of significance."
   ]
  },
  {
   "cell_type": "markdown",
   "metadata": {
    "id": "rV6vZdAWHmGD"
   },
   "source": [
    "Ho: μ = 368\n",
    "H1: μ ≠ 368\n",
    "σ = 25\n",
    "α = 0.05\n",
    "n = 25"
   ]
  },
  {
   "cell_type": "code",
   "execution_count": 11,
   "metadata": {},
   "outputs": [
    {
     "name": "stdout",
     "output_type": "stream",
     "text": [
      "t =  -0.39381799254547795 , p =  0.69719258722731\n",
      "Chưa có bằng chứng để bác bỏ giả thuyết H0\n"
     ]
    }
   ],
   "source": [
    "#Code here\n",
    "samples = np.random.normal(372.5, 25, 25)\n",
    "null_mean=368\n",
    "alpha = 0.05\n",
    "#kiểm định\n",
    "ttest_Score, p_value = st.ttest_1samp(samples, 368)\n",
    "print('t = ',ttest_Score,', p = ',p_value)\n",
    "if(p_value <  alpha/2):\n",
    "  print(\"Có bằng chứng để bác bỏ giả thuyết H0\")\n",
    "else:\n",
    "  print(\"Chưa có bằng chứng để bác bỏ giả thuyết H0\")\n"
   ]
  },
  {
   "cell_type": "markdown",
   "metadata": {
    "id": "vHbAKReLHmGE"
   },
   "source": [
    "Bài 4: You’re a Q/C inspector.  You want to find out if a new machine is making electrical cords to customer specification: average breaking strength of 70 lb. with $\\sigma$ = 3.5 lb.  You take a sample of 36 cords & compute a sample mean of 69.7 lb.  At the .05 level of significance, is there evidence that the machine is not meeting the average breaking strength?"
   ]
  },
  {
   "cell_type": "markdown",
   "metadata": {},
   "source": [
    "Ho: μ = 70\n",
    "H1: μ ≠ 70\n",
    "σ = 3.5\n",
    "α = 0.05\n",
    "n = 36"
   ]
  },
  {
   "cell_type": "code",
   "execution_count": 12,
   "metadata": {
    "id": "W_q_RxE5HmGE"
   },
   "outputs": [
    {
     "name": "stdout",
     "output_type": "stream",
     "text": [
      "z =  -0.6448072823381366 ; p =  0.7404739589498707\n",
      "Chưa có bằng chứng để bác bỏ giả thuyết H0\n"
     ]
    }
   ],
   "source": [
    "#Code here\n",
    "#xác định thông số \n",
    "alpha = 0.05\n",
    "null_mean = 70\n",
    "#sinh ngẫu nhiên một mẫu 36 phần tử có trung bình mẫu là 69.7 độ lệch chuẩn là 3.5\n",
    "samples = np.random.normal(69.7,3.5,36)\n",
    "#kiểm định z\n",
    "ztest_Score, p_value= ztest(samples, value = null_mean, alternative='larger')\n",
    "print('z = ', ztest_Score, '; p = ', p_value)\n",
    "if (p_value <  alpha):\n",
    "  print(\"Có bằng chứng để bác bỏ giả thuyết H0\")\n",
    "else:\n",
    "  print(\"Chưa có bằng chứng để bác bỏ giả thuyết H0\")"
   ]
  },
  {
   "cell_type": "markdown",
   "metadata": {
    "id": "Z-lJ5028HmGE"
   },
   "source": [
    "Bài 5: Does an average box of cereal contain more than 368 grams of cereal?  A random sample of 25 boxes showed $\\overline{\\rm x}$ =  372.5.  The company has specified $\\sigma$ to be 25 grams.  Test at the .05 level of significance."
   ]
  },
  {
   "cell_type": "markdown",
   "metadata": {},
   "source": [
    "Ho: μ = 368\n",
    "H1: μ > 368\n",
    "σ = 25\n",
    "α = 0.05\n",
    "n = 25"
   ]
  },
  {
   "cell_type": "code",
   "execution_count": 24,
   "metadata": {
    "id": "aAzkZSEwHmGF"
   },
   "outputs": [
    {
     "name": "stdout",
     "output_type": "stream",
     "text": [
      "t =  -0.5269759689525799 , p =  0.6030477112882391\n",
      "Chưa có bằng chứng để bác bỏ giả thuyết H0\n"
     ]
    }
   ],
   "source": [
    "#Code here\n",
    "#Code here\n",
    "samples = np.random.normal(372.5, 25, 25)\n",
    "null_mean=368\n",
    "alpha = 0.05\n",
    "#kiểm định\n",
    "ttest_Score, p_value = st.ttest_1samp(samples, 368)\n",
    "print('t = ',ttest_Score,', p = ',p_value)\n",
    "if(p_value <  alpha):\n",
    "  print(\"Có bằng chứng để bác bỏ giả thuyết H0\")\n",
    "else:\n",
    "  print(\"Chưa có bằng chứng để bác bỏ giả thuyết H0\")\n"
   ]
  },
  {
   "cell_type": "markdown",
   "metadata": {
    "id": "YI-JRQMSHmGF"
   },
   "source": [
    "Bài 6: You’re an analyst for Ford.  You want to find out if the average miles per gallon of Escorts is at least 32 mpg. Similar models have a standard deviation of 3.8 mpg. You take a sample of 60 Escorts & compute a sample mean of 30.7 mpg. At the .01 level of significance, is there evidence that the miles per gallon is less than 32?"
   ]
  },
  {
   "cell_type": "markdown",
   "metadata": {},
   "source": []
  },
  {
   "cell_type": "markdown",
   "metadata": {},
   "source": [
    "Ho: μ = 32\n",
    "H1: μ < 32\n",
    "σ = 3.8\n",
    "α = 0.01\n",
    "n = 60"
   ]
  },
  {
   "cell_type": "code",
   "execution_count": 10,
   "metadata": {
    "id": "5sLzdATiHmGF"
   },
   "outputs": [
    {
     "name": "stdout",
     "output_type": "stream",
     "text": [
      "z =  -2.087589474288507 ; p =  0.9815825588539207\n",
      "Chưa có bằng chứng để bác bỏ giả thuyết H0\n"
     ]
    }
   ],
   "source": [
    "#Code here\n",
    "\n",
    "alpha = 0.01\n",
    "null_mean = 32\n",
    "samples = np.random.normal(30.7,3.8,60)\n",
    "#kiểm định \n",
    "ztest_Score, p_value= ztest(samples, value = null_mean, alternative='larger')\n",
    "print('z = ', ztest_Score, '; p = ', p_value)\n",
    "if (p_value <  alpha)and (ztest_Score<0):\n",
    "  print(\"Có bằng chứng để bác bỏ giả thuyết H0\")\n",
    "else:\n",
    "  print(\"Chưa có bằng chứng để bác bỏ giả thuyết H0\")"
   ]
  },
  {
   "cell_type": "markdown",
   "metadata": {
    "id": "lQGicaIiHmGG"
   },
   "source": [
    "Bài 7: Does an average box of cereal contain 368 grams of cereal?  A random sample of 25 boxes showed $\\overline{\\rm x}$ = 372.5.  The company has specified $\\sigma$ to be 15 grams.  Find the p-Value."
   ]
  },
  {
   "cell_type": "code",
   "execution_count": 13,
   "metadata": {
    "id": "lCwc5PsiHmGG"
   },
   "outputs": [
    {
     "name": "stdout",
     "output_type": "stream",
     "text": [
      "p_value =  0.9646049220250555\n"
     ]
    }
   ],
   "source": [
    "#Code here\n",
    "\n",
    "null_mean = 368\n",
    "\n",
    "#Sampling\n",
    "samples = np.random.normal(372.5, 25, 25)\n",
    "#Kiểm định t\n",
    "ttest_Score, p_value = st.ttest_1samp(samples, null_mean)\n",
    "print('p_value = ',p_value)\n"
   ]
  },
  {
   "cell_type": "markdown",
   "metadata": {
    "id": "s8nXNPUhHmGG"
   },
   "source": [
    "Bài 8: Does an average box of cereal contain more than 368 grams of cereal?  A random sample of 25 boxes showed $\\overline{\\rm x}$ = 372.5.  The company has specified $\\sigma$ to be 15 grams.  Find the p-Value."
   ]
  },
  {
   "cell_type": "code",
   "execution_count": 16,
   "metadata": {
    "id": "7vSszGKcHmGG"
   },
   "outputs": [
    {
     "name": "stdout",
     "output_type": "stream",
     "text": [
      "p_value =  0.8735835249009205\n"
     ]
    }
   ],
   "source": [
    "#Code here\n",
    "\n",
    "null_mean = 368\n",
    "\n",
    "#Sampling\n",
    "samples = np.random.normal(372.5, 25, 25)\n",
    "#Kiểm định t\n",
    "ttest_Score, p_value = st.ttest_1samp(samples, null_mean)\n",
    "print('p_value = ',p_value)"
   ]
  },
  {
   "cell_type": "markdown",
   "metadata": {
    "id": "NzolAbVnHmGH"
   },
   "source": [
    "Bài 9: You’re an analyst for Ford.  You want to find out if the average miles per gallon of Escorts is less than 32 mpg.   Similar models have a standard deviation of 3.8 mpg.  You take a sample of 60 Escorts & compute a sample mean of 30.7 mpg.  What is the value of the observed level of significance (p-Value)?"
   ]
  },
  {
   "cell_type": "code",
   "execution_count": 17,
   "metadata": {
    "id": "-X5nY328HmGH"
   },
   "outputs": [
    {
     "name": "stdout",
     "output_type": "stream",
     "text": [
      " p =  0.9643176668451978\n"
     ]
    }
   ],
   "source": [
    "#Code here\n",
    "null_mean = 32\n",
    "#Samping\n",
    "samples = np.random.normal(30.7,3.8,60)\n",
    "#kiểm định z\n",
    "ztest_Score, p_value= ztest(samples, value = null_mean, alternative='larger')\n",
    "print(' p = ', p_value)"
   ]
  },
  {
   "cell_type": "markdown",
   "metadata": {
    "id": "PGtWBgYqHmGH"
   },
   "source": [
    "Bài 10: Does an average box of cereal contain 368 grams of cereal?  A random sample of 36 boxes had a mean of 372.5 and a standard deviation of 12 grams. Test at the .05 level of significance."
   ]
  },
  {
   "cell_type": "code",
   "execution_count": 18,
   "metadata": {
    "id": "rmlzzyhJHmGH"
   },
   "outputs": [
    {
     "name": "stdout",
     "output_type": "stream",
     "text": [
      "z =  3.3610373644620033 ; p =  0.00038825160144582077\n",
      "Có bằng chứng để bác bỏ giả thuyết H0\n"
     ]
    }
   ],
   "source": [
    "#Code here\n",
    "alpha = 0.05\n",
    "null_mean = 368\n",
    "\n",
    "#Sampling\n",
    "samples = np.random.normal(372.5, 12, 36)\n",
    "#Kiểm định z\n",
    "ztest_Score, p_value= ztest(samples, value = null_mean, alternative='larger')\n",
    "print('z = ', ztest_Score, '; p = ', p_value)\n",
    "if (p_value <  alpha/2):\n",
    "  print(\"Có bằng chứng để bác bỏ giả thuyết H0\")\n",
    "else:\n",
    "  print(\"Chưa có bằng chứng để bác bỏ giả thuyết H0\")"
   ]
  },
  {
   "cell_type": "markdown",
   "metadata": {
    "id": "Mur1EOsAHmGH"
   },
   "source": [
    "Bài 11: You work for the FTC.  A manufacturer of detergent claims that the mean weight of detergent is 3.25 lb.  You take a random sample of 64 containers.  You calculate the sample average to be 3.238 lb. with a standard deviation of .117 lb.  At the .01 level of significance, is the manufacturer correct?"
   ]
  },
  {
   "cell_type": "markdown",
   "metadata": {},
   "source": [
    "Ho: μ = 3.25\n",
    "H1: μ ≠ 325\n",
    "σ = 0.117\n",
    "α = 0.01\n",
    "n = 64"
   ]
  },
  {
   "cell_type": "code",
   "execution_count": 19,
   "metadata": {
    "id": "a4H6PgafHmGI"
   },
   "outputs": [
    {
     "name": "stdout",
     "output_type": "stream",
     "text": [
      "z =  -0.16228708744638948 ; p =  0.5644601086929492\n",
      "Chưa có bằng chứng để bác bỏ giả thuyết H0\n"
     ]
    }
   ],
   "source": [
    "#Code here\n",
    "alpha = 0.01\n",
    "null_mean = 3.25\n",
    "#Sampling\n",
    "samples = np.random.normal(3.238, 0.117, 64)\n",
    "ztest_Score, p_value= ztest(samples, value = null_mean, alternative='larger')\n",
    "print('z = ', ztest_Score, '; p = ', p_value)\n",
    "if (p_value <  alpha/2):\n",
    "  print(\"Có bằng chứng để bác bỏ giả thuyết H0\")\n",
    "else:\n",
    "  print(\"Chưa có bằng chứng để bác bỏ giả thuyết H0\")"
   ]
  },
  {
   "cell_type": "markdown",
   "metadata": {
    "id": "SGdG7wsMHmGI"
   },
   "source": [
    "Bài 12: Is the average capacity of batteries less than 140 ampere-hours?  A random sample of 20 batteries had a mean of 138.47 and a standard deviation of 2.66.  Assume a normal distribution. Test at the .05 level of significance."
   ]
  },
  {
   "cell_type": "markdown",
   "metadata": {},
   "source": [
    "Ho: μ = 140\n",
    "H1: μ < 140\n",
    "σ = 2.66\n",
    "α = 0.05\n",
    "n = 20"
   ]
  },
  {
   "cell_type": "code",
   "execution_count": 22,
   "metadata": {
    "id": "k7kFJ64jHmGI"
   },
   "outputs": [
    {
     "name": "stdout",
     "output_type": "stream",
     "text": [
      "t =  -1.6161099752213544 , p =  0.12255369614582798\n",
      "Chưa có bằng chứng để bác bỏ giả thuyết H0\n"
     ]
    }
   ],
   "source": [
    "#Code here\n",
    "\n",
    "alpha = 0.05\n",
    "null_mean = 140\n",
    "#Sampling\n",
    "samples = np.random.normal(138.47, 2.66, 20)\n",
    "#Kiểm định t\n",
    "ttest_Score, p_value = st.ttest_1samp(samples, null_mean)\n",
    "print('t = ',ttest_Score,', p = ',p_value)\n",
    "if(p_value <  alpha) and (ttest_Score>0):\n",
    "  print(\"Có bằng chứng để bác bỏ giả thuyết H0\")\n",
    "else:\n",
    "  print(\"Chưa có bằng chứng để bác bỏ giả thuyết H0\")"
   ]
  },
  {
   "cell_type": "markdown",
   "metadata": {
    "id": "vEhxD7ktHmGI"
   },
   "source": [
    "Bài 13: You’re a marketing analyst for Wal-Mart.  Wal-Mart had teddy bears on sale last week.  The weekly sales of bears sold in 10 stores was: 8  11  0   4   7   8   10   5   8   3. At the .05 level of significance, is there evidence that the average bear sales per store is more than 5?"
   ]
  },
  {
   "cell_type": "code",
   "execution_count": 21,
   "metadata": {
    "id": "b-uN-FScHmGJ"
   },
   "outputs": [
    {
     "name": "stdout",
     "output_type": "stream",
     "text": [
      "t =  1.3125000000000004 , p =  0.2218341554238571\n",
      "Chưa có bằng chứng để bác bỏ giả thuyết H0\n"
     ]
    }
   ],
   "source": [
    "#Code here\n",
    "\n",
    "a = np.array([8,11,0,4,7,8,10,5,8,3])\n",
    "alpha = 0.05\n",
    "null_mean = 5\n",
    "#Kiểm định t\n",
    "ttest_Score, p_value = st.ttest_1samp(a, null_mean)\n",
    "print('t = ',ttest_Score,', p = ',p_value)\n",
    "if(p_value <  alpha) and (ttest_Score>0):\n",
    "  print(\"Có bằng chứng để bác bỏ giả thuyết H0\")\n",
    "else:\n",
    "  print(\"Chưa có bằng chứng để bác bỏ giả thuyết H0\")"
   ]
  }
 ],
 "metadata": {
  "colab": {
   "name": "bai-tap-kiem-dinh-z-t.ipynb",
   "provenance": []
  },
  "kernelspec": {
   "display_name": "Python 3",
   "language": "python",
   "name": "python3"
  },
  "language_info": {
   "codemirror_mode": {
    "name": "ipython",
    "version": 3
   },
   "file_extension": ".py",
   "mimetype": "text/x-python",
   "name": "python",
   "nbconvert_exporter": "python",
   "pygments_lexer": "ipython3",
   "version": "3.8.5"
  }
 },
 "nbformat": 4,
 "nbformat_minor": 1
}
