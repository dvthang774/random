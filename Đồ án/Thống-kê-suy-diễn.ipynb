{
 "cells": [
  {
   "cell_type": "code",
   "execution_count": 2,
   "metadata": {},
   "outputs": [],
   "source": [
    "import numpy as np\n",
    "import pandas as pd\n",
    "import matplotlib.pyplot as plt \n",
    "import seaborn as sns\n",
    "import statsmodels\n",
    "import statsmodels.api as sm\n",
    "from statsmodels.formula.api import ols\n",
    "%matplotlib inline\n",
    "%reload_ext autoreload\n",
    "%autoreload 2\n",
    "sns.set(rc={'figure.figsize':(13, 7.5)})"
   ]
  },
  {
   "cell_type": "code",
   "execution_count": 3,
   "metadata": {},
   "outputs": [
    {
     "data": {
      "text/html": [
       "<div>\n",
       "<style scoped>\n",
       "    .dataframe tbody tr th:only-of-type {\n",
       "        vertical-align: middle;\n",
       "    }\n",
       "\n",
       "    .dataframe tbody tr th {\n",
       "        vertical-align: top;\n",
       "    }\n",
       "\n",
       "    .dataframe thead th {\n",
       "        text-align: right;\n",
       "    }\n",
       "</style>\n",
       "<table border=\"1\" class=\"dataframe\">\n",
       "  <thead>\n",
       "    <tr style=\"text-align: right;\">\n",
       "      <th></th>\n",
       "      <th>Person</th>\n",
       "      <th>gender</th>\n",
       "      <th>Age</th>\n",
       "      <th>Height</th>\n",
       "      <th>pre.weight</th>\n",
       "      <th>Diet</th>\n",
       "      <th>weight6weeks</th>\n",
       "    </tr>\n",
       "  </thead>\n",
       "  <tbody>\n",
       "    <tr>\n",
       "      <th>0</th>\n",
       "      <td>25</td>\n",
       "      <td></td>\n",
       "      <td>41</td>\n",
       "      <td>171</td>\n",
       "      <td>60</td>\n",
       "      <td>2</td>\n",
       "      <td>60.0</td>\n",
       "    </tr>\n",
       "    <tr>\n",
       "      <th>1</th>\n",
       "      <td>26</td>\n",
       "      <td></td>\n",
       "      <td>32</td>\n",
       "      <td>174</td>\n",
       "      <td>103</td>\n",
       "      <td>2</td>\n",
       "      <td>103.0</td>\n",
       "    </tr>\n",
       "    <tr>\n",
       "      <th>2</th>\n",
       "      <td>1</td>\n",
       "      <td>0</td>\n",
       "      <td>22</td>\n",
       "      <td>159</td>\n",
       "      <td>58</td>\n",
       "      <td>1</td>\n",
       "      <td>54.2</td>\n",
       "    </tr>\n",
       "    <tr>\n",
       "      <th>3</th>\n",
       "      <td>2</td>\n",
       "      <td>0</td>\n",
       "      <td>46</td>\n",
       "      <td>192</td>\n",
       "      <td>60</td>\n",
       "      <td>1</td>\n",
       "      <td>54.0</td>\n",
       "    </tr>\n",
       "    <tr>\n",
       "      <th>4</th>\n",
       "      <td>3</td>\n",
       "      <td>0</td>\n",
       "      <td>55</td>\n",
       "      <td>170</td>\n",
       "      <td>64</td>\n",
       "      <td>1</td>\n",
       "      <td>63.3</td>\n",
       "    </tr>\n",
       "    <tr>\n",
       "      <th>...</th>\n",
       "      <td>...</td>\n",
       "      <td>...</td>\n",
       "      <td>...</td>\n",
       "      <td>...</td>\n",
       "      <td>...</td>\n",
       "      <td>...</td>\n",
       "      <td>...</td>\n",
       "    </tr>\n",
       "    <tr>\n",
       "      <th>73</th>\n",
       "      <td>74</td>\n",
       "      <td>1</td>\n",
       "      <td>35</td>\n",
       "      <td>183</td>\n",
       "      <td>83</td>\n",
       "      <td>3</td>\n",
       "      <td>80.2</td>\n",
       "    </tr>\n",
       "    <tr>\n",
       "      <th>74</th>\n",
       "      <td>75</td>\n",
       "      <td>1</td>\n",
       "      <td>49</td>\n",
       "      <td>177</td>\n",
       "      <td>84</td>\n",
       "      <td>3</td>\n",
       "      <td>79.9</td>\n",
       "    </tr>\n",
       "    <tr>\n",
       "      <th>75</th>\n",
       "      <td>76</td>\n",
       "      <td>1</td>\n",
       "      <td>28</td>\n",
       "      <td>164</td>\n",
       "      <td>85</td>\n",
       "      <td>3</td>\n",
       "      <td>79.7</td>\n",
       "    </tr>\n",
       "    <tr>\n",
       "      <th>76</th>\n",
       "      <td>77</td>\n",
       "      <td>1</td>\n",
       "      <td>40</td>\n",
       "      <td>167</td>\n",
       "      <td>87</td>\n",
       "      <td>3</td>\n",
       "      <td>77.8</td>\n",
       "    </tr>\n",
       "    <tr>\n",
       "      <th>77</th>\n",
       "      <td>78</td>\n",
       "      <td>1</td>\n",
       "      <td>51</td>\n",
       "      <td>175</td>\n",
       "      <td>88</td>\n",
       "      <td>3</td>\n",
       "      <td>81.9</td>\n",
       "    </tr>\n",
       "  </tbody>\n",
       "</table>\n",
       "<p>78 rows × 7 columns</p>\n",
       "</div>"
      ],
      "text/plain": [
       "    Person gender  Age  Height  pre.weight  Diet  weight6weeks\n",
       "0       25          41     171          60     2          60.0\n",
       "1       26          32     174         103     2         103.0\n",
       "2        1      0   22     159          58     1          54.2\n",
       "3        2      0   46     192          60     1          54.0\n",
       "4        3      0   55     170          64     1          63.3\n",
       "..     ...    ...  ...     ...         ...   ...           ...\n",
       "73      74      1   35     183          83     3          80.2\n",
       "74      75      1   49     177          84     3          79.9\n",
       "75      76      1   28     164          85     3          79.7\n",
       "76      77      1   40     167          87     3          77.8\n",
       "77      78      1   51     175          88     3          81.9\n",
       "\n",
       "[78 rows x 7 columns]"
      ]
     },
     "execution_count": 3,
     "metadata": {},
     "output_type": "execute_result"
    }
   ],
   "source": [
    "# Load data\n",
    "data = pd.read_csv(\"Diet_R.csv\")\n",
    "data"
   ]
  },
  {
   "cell_type": "code",
   "execution_count": 4,
   "metadata": {},
   "outputs": [
    {
     "data": {
      "text/html": [
       "<div>\n",
       "<style scoped>\n",
       "    .dataframe tbody tr th:only-of-type {\n",
       "        vertical-align: middle;\n",
       "    }\n",
       "\n",
       "    .dataframe tbody tr th {\n",
       "        vertical-align: top;\n",
       "    }\n",
       "\n",
       "    .dataframe thead th {\n",
       "        text-align: right;\n",
       "    }\n",
       "</style>\n",
       "<table border=\"1\" class=\"dataframe\">\n",
       "  <thead>\n",
       "    <tr style=\"text-align: right;\">\n",
       "      <th></th>\n",
       "      <th>Person</th>\n",
       "      <th>gender</th>\n",
       "      <th>Age</th>\n",
       "      <th>Height</th>\n",
       "      <th>pre.weight</th>\n",
       "      <th>Diet</th>\n",
       "      <th>weight6weeks</th>\n",
       "    </tr>\n",
       "  </thead>\n",
       "  <tbody>\n",
       "    <tr>\n",
       "      <th>2</th>\n",
       "      <td>1</td>\n",
       "      <td>0</td>\n",
       "      <td>22</td>\n",
       "      <td>159</td>\n",
       "      <td>58</td>\n",
       "      <td>1</td>\n",
       "      <td>54.2</td>\n",
       "    </tr>\n",
       "    <tr>\n",
       "      <th>3</th>\n",
       "      <td>2</td>\n",
       "      <td>0</td>\n",
       "      <td>46</td>\n",
       "      <td>192</td>\n",
       "      <td>60</td>\n",
       "      <td>1</td>\n",
       "      <td>54.0</td>\n",
       "    </tr>\n",
       "    <tr>\n",
       "      <th>4</th>\n",
       "      <td>3</td>\n",
       "      <td>0</td>\n",
       "      <td>55</td>\n",
       "      <td>170</td>\n",
       "      <td>64</td>\n",
       "      <td>1</td>\n",
       "      <td>63.3</td>\n",
       "    </tr>\n",
       "    <tr>\n",
       "      <th>5</th>\n",
       "      <td>4</td>\n",
       "      <td>0</td>\n",
       "      <td>33</td>\n",
       "      <td>171</td>\n",
       "      <td>64</td>\n",
       "      <td>1</td>\n",
       "      <td>61.1</td>\n",
       "    </tr>\n",
       "    <tr>\n",
       "      <th>6</th>\n",
       "      <td>5</td>\n",
       "      <td>0</td>\n",
       "      <td>50</td>\n",
       "      <td>170</td>\n",
       "      <td>65</td>\n",
       "      <td>1</td>\n",
       "      <td>62.2</td>\n",
       "    </tr>\n",
       "    <tr>\n",
       "      <th>...</th>\n",
       "      <td>...</td>\n",
       "      <td>...</td>\n",
       "      <td>...</td>\n",
       "      <td>...</td>\n",
       "      <td>...</td>\n",
       "      <td>...</td>\n",
       "      <td>...</td>\n",
       "    </tr>\n",
       "    <tr>\n",
       "      <th>73</th>\n",
       "      <td>74</td>\n",
       "      <td>1</td>\n",
       "      <td>35</td>\n",
       "      <td>183</td>\n",
       "      <td>83</td>\n",
       "      <td>3</td>\n",
       "      <td>80.2</td>\n",
       "    </tr>\n",
       "    <tr>\n",
       "      <th>74</th>\n",
       "      <td>75</td>\n",
       "      <td>1</td>\n",
       "      <td>49</td>\n",
       "      <td>177</td>\n",
       "      <td>84</td>\n",
       "      <td>3</td>\n",
       "      <td>79.9</td>\n",
       "    </tr>\n",
       "    <tr>\n",
       "      <th>75</th>\n",
       "      <td>76</td>\n",
       "      <td>1</td>\n",
       "      <td>28</td>\n",
       "      <td>164</td>\n",
       "      <td>85</td>\n",
       "      <td>3</td>\n",
       "      <td>79.7</td>\n",
       "    </tr>\n",
       "    <tr>\n",
       "      <th>76</th>\n",
       "      <td>77</td>\n",
       "      <td>1</td>\n",
       "      <td>40</td>\n",
       "      <td>167</td>\n",
       "      <td>87</td>\n",
       "      <td>3</td>\n",
       "      <td>77.8</td>\n",
       "    </tr>\n",
       "    <tr>\n",
       "      <th>77</th>\n",
       "      <td>78</td>\n",
       "      <td>1</td>\n",
       "      <td>51</td>\n",
       "      <td>175</td>\n",
       "      <td>88</td>\n",
       "      <td>3</td>\n",
       "      <td>81.9</td>\n",
       "    </tr>\n",
       "  </tbody>\n",
       "</table>\n",
       "<p>76 rows × 7 columns</p>\n",
       "</div>"
      ],
      "text/plain": [
       "    Person gender  Age  Height  pre.weight  Diet  weight6weeks\n",
       "2        1      0   22     159          58     1          54.2\n",
       "3        2      0   46     192          60     1          54.0\n",
       "4        3      0   55     170          64     1          63.3\n",
       "5        4      0   33     171          64     1          61.1\n",
       "6        5      0   50     170          65     1          62.2\n",
       "..     ...    ...  ...     ...         ...   ...           ...\n",
       "73      74      1   35     183          83     3          80.2\n",
       "74      75      1   49     177          84     3          79.9\n",
       "75      76      1   28     164          85     3          79.7\n",
       "76      77      1   40     167          87     3          77.8\n",
       "77      78      1   51     175          88     3          81.9\n",
       "\n",
       "[76 rows x 7 columns]"
      ]
     },
     "execution_count": 4,
     "metadata": {},
     "output_type": "execute_result"
    }
   ],
   "source": [
    "# Vì Person 25, 26 thiếu dữ liệu ở Gender -> loại bỏ \n",
    "df = data.drop([0, 1])\n",
    "df"
   ]
  },
  {
   "cell_type": "code",
   "execution_count": 5,
   "metadata": {},
   "outputs": [
    {
     "data": {
      "text/html": [
       "<div>\n",
       "<style scoped>\n",
       "    .dataframe tbody tr th:only-of-type {\n",
       "        vertical-align: middle;\n",
       "    }\n",
       "\n",
       "    .dataframe tbody tr th {\n",
       "        vertical-align: top;\n",
       "    }\n",
       "\n",
       "    .dataframe thead th {\n",
       "        text-align: right;\n",
       "    }\n",
       "</style>\n",
       "<table border=\"1\" class=\"dataframe\">\n",
       "  <thead>\n",
       "    <tr style=\"text-align: right;\">\n",
       "      <th></th>\n",
       "      <th>gender</th>\n",
       "      <th>Age</th>\n",
       "      <th>Height</th>\n",
       "      <th>pre.weight</th>\n",
       "      <th>Diet</th>\n",
       "      <th>weight6weeks</th>\n",
       "    </tr>\n",
       "    <tr>\n",
       "      <th>Person</th>\n",
       "      <th></th>\n",
       "      <th></th>\n",
       "      <th></th>\n",
       "      <th></th>\n",
       "      <th></th>\n",
       "      <th></th>\n",
       "    </tr>\n",
       "  </thead>\n",
       "  <tbody>\n",
       "    <tr>\n",
       "      <th>1</th>\n",
       "      <td>0</td>\n",
       "      <td>22</td>\n",
       "      <td>159</td>\n",
       "      <td>58</td>\n",
       "      <td>1</td>\n",
       "      <td>54.2</td>\n",
       "    </tr>\n",
       "    <tr>\n",
       "      <th>2</th>\n",
       "      <td>0</td>\n",
       "      <td>46</td>\n",
       "      <td>192</td>\n",
       "      <td>60</td>\n",
       "      <td>1</td>\n",
       "      <td>54.0</td>\n",
       "    </tr>\n",
       "    <tr>\n",
       "      <th>3</th>\n",
       "      <td>0</td>\n",
       "      <td>55</td>\n",
       "      <td>170</td>\n",
       "      <td>64</td>\n",
       "      <td>1</td>\n",
       "      <td>63.3</td>\n",
       "    </tr>\n",
       "    <tr>\n",
       "      <th>4</th>\n",
       "      <td>0</td>\n",
       "      <td>33</td>\n",
       "      <td>171</td>\n",
       "      <td>64</td>\n",
       "      <td>1</td>\n",
       "      <td>61.1</td>\n",
       "    </tr>\n",
       "    <tr>\n",
       "      <th>5</th>\n",
       "      <td>0</td>\n",
       "      <td>50</td>\n",
       "      <td>170</td>\n",
       "      <td>65</td>\n",
       "      <td>1</td>\n",
       "      <td>62.2</td>\n",
       "    </tr>\n",
       "    <tr>\n",
       "      <th>...</th>\n",
       "      <td>...</td>\n",
       "      <td>...</td>\n",
       "      <td>...</td>\n",
       "      <td>...</td>\n",
       "      <td>...</td>\n",
       "      <td>...</td>\n",
       "    </tr>\n",
       "    <tr>\n",
       "      <th>74</th>\n",
       "      <td>1</td>\n",
       "      <td>35</td>\n",
       "      <td>183</td>\n",
       "      <td>83</td>\n",
       "      <td>3</td>\n",
       "      <td>80.2</td>\n",
       "    </tr>\n",
       "    <tr>\n",
       "      <th>75</th>\n",
       "      <td>1</td>\n",
       "      <td>49</td>\n",
       "      <td>177</td>\n",
       "      <td>84</td>\n",
       "      <td>3</td>\n",
       "      <td>79.9</td>\n",
       "    </tr>\n",
       "    <tr>\n",
       "      <th>76</th>\n",
       "      <td>1</td>\n",
       "      <td>28</td>\n",
       "      <td>164</td>\n",
       "      <td>85</td>\n",
       "      <td>3</td>\n",
       "      <td>79.7</td>\n",
       "    </tr>\n",
       "    <tr>\n",
       "      <th>77</th>\n",
       "      <td>1</td>\n",
       "      <td>40</td>\n",
       "      <td>167</td>\n",
       "      <td>87</td>\n",
       "      <td>3</td>\n",
       "      <td>77.8</td>\n",
       "    </tr>\n",
       "    <tr>\n",
       "      <th>78</th>\n",
       "      <td>1</td>\n",
       "      <td>51</td>\n",
       "      <td>175</td>\n",
       "      <td>88</td>\n",
       "      <td>3</td>\n",
       "      <td>81.9</td>\n",
       "    </tr>\n",
       "  </tbody>\n",
       "</table>\n",
       "<p>76 rows × 6 columns</p>\n",
       "</div>"
      ],
      "text/plain": [
       "       gender  Age  Height  pre.weight  Diet  weight6weeks\n",
       "Person                                                    \n",
       "1           0   22     159          58     1          54.2\n",
       "2           0   46     192          60     1          54.0\n",
       "3           0   55     170          64     1          63.3\n",
       "4           0   33     171          64     1          61.1\n",
       "5           0   50     170          65     1          62.2\n",
       "...       ...  ...     ...         ...   ...           ...\n",
       "74          1   35     183          83     3          80.2\n",
       "75          1   49     177          84     3          79.9\n",
       "76          1   28     164          85     3          79.7\n",
       "77          1   40     167          87     3          77.8\n",
       "78          1   51     175          88     3          81.9\n",
       "\n",
       "[76 rows x 6 columns]"
      ]
     },
     "execution_count": 5,
     "metadata": {},
     "output_type": "execute_result"
    }
   ],
   "source": [
    "# Sắp xếp index \n",
    "\n",
    "df = df.set_index('Person')\n",
    "df = df.sort_index()\n",
    "df"
   ]
  },
  {
   "cell_type": "code",
   "execution_count": 6,
   "metadata": {},
   "outputs": [
    {
     "data": {
      "text/plain": [
       "gender          False\n",
       "Age             False\n",
       "Height          False\n",
       "pre.weight      False\n",
       "Diet            False\n",
       "weight6weeks    False\n",
       "dtype: bool"
      ]
     },
     "execution_count": 6,
     "metadata": {},
     "output_type": "execute_result"
    }
   ],
   "source": [
    "df.isna().any()"
   ]
  },
  {
   "cell_type": "code",
   "execution_count": 7,
   "metadata": {},
   "outputs": [
    {
     "name": "stdout",
     "output_type": "stream",
     "text": [
      "<class 'pandas.core.frame.DataFrame'>\n",
      "Int64Index: 76 entries, 1 to 78\n",
      "Data columns (total 6 columns):\n",
      " #   Column        Non-Null Count  Dtype  \n",
      "---  ------        --------------  -----  \n",
      " 0   gender        76 non-null     object \n",
      " 1   Age           76 non-null     int64  \n",
      " 2   Height        76 non-null     int64  \n",
      " 3   pre.weight    76 non-null     int64  \n",
      " 4   Diet          76 non-null     int64  \n",
      " 5   weight6weeks  76 non-null     float64\n",
      "dtypes: float64(1), int64(4), object(1)\n",
      "memory usage: 4.2+ KB\n"
     ]
    }
   ],
   "source": [
    "df.info()"
   ]
  },
  {
   "cell_type": "code",
   "execution_count": 8,
   "metadata": {},
   "outputs": [
    {
     "data": {
      "text/html": [
       "<div>\n",
       "<style scoped>\n",
       "    .dataframe tbody tr th:only-of-type {\n",
       "        vertical-align: middle;\n",
       "    }\n",
       "\n",
       "    .dataframe tbody tr th {\n",
       "        vertical-align: top;\n",
       "    }\n",
       "\n",
       "    .dataframe thead th {\n",
       "        text-align: right;\n",
       "    }\n",
       "</style>\n",
       "<table border=\"1\" class=\"dataframe\">\n",
       "  <thead>\n",
       "    <tr style=\"text-align: right;\">\n",
       "      <th></th>\n",
       "      <th>count</th>\n",
       "      <th>mean</th>\n",
       "      <th>std</th>\n",
       "      <th>min</th>\n",
       "      <th>25%</th>\n",
       "      <th>50%</th>\n",
       "      <th>75%</th>\n",
       "      <th>max</th>\n",
       "    </tr>\n",
       "  </thead>\n",
       "  <tbody>\n",
       "    <tr>\n",
       "      <th>Age</th>\n",
       "      <td>76.0</td>\n",
       "      <td>39.223684</td>\n",
       "      <td>9.908379</td>\n",
       "      <td>16.0</td>\n",
       "      <td>32.50</td>\n",
       "      <td>39.00</td>\n",
       "      <td>47.250</td>\n",
       "      <td>60.0</td>\n",
       "    </tr>\n",
       "    <tr>\n",
       "      <th>Height</th>\n",
       "      <td>76.0</td>\n",
       "      <td>170.776316</td>\n",
       "      <td>11.419981</td>\n",
       "      <td>141.0</td>\n",
       "      <td>163.75</td>\n",
       "      <td>169.00</td>\n",
       "      <td>175.250</td>\n",
       "      <td>201.0</td>\n",
       "    </tr>\n",
       "    <tr>\n",
       "      <th>pre.weight</th>\n",
       "      <td>76.0</td>\n",
       "      <td>72.289474</td>\n",
       "      <td>7.974653</td>\n",
       "      <td>58.0</td>\n",
       "      <td>66.00</td>\n",
       "      <td>72.00</td>\n",
       "      <td>78.000</td>\n",
       "      <td>88.0</td>\n",
       "    </tr>\n",
       "    <tr>\n",
       "      <th>Diet</th>\n",
       "      <td>76.0</td>\n",
       "      <td>2.039474</td>\n",
       "      <td>0.823663</td>\n",
       "      <td>1.0</td>\n",
       "      <td>1.00</td>\n",
       "      <td>2.00</td>\n",
       "      <td>3.000</td>\n",
       "      <td>3.0</td>\n",
       "    </tr>\n",
       "    <tr>\n",
       "      <th>weight6weeks</th>\n",
       "      <td>76.0</td>\n",
       "      <td>68.343421</td>\n",
       "      <td>8.058938</td>\n",
       "      <td>53.0</td>\n",
       "      <td>61.95</td>\n",
       "      <td>68.95</td>\n",
       "      <td>73.675</td>\n",
       "      <td>84.5</td>\n",
       "    </tr>\n",
       "  </tbody>\n",
       "</table>\n",
       "</div>"
      ],
      "text/plain": [
       "              count        mean        std    min     25%     50%      75%  \\\n",
       "Age            76.0   39.223684   9.908379   16.0   32.50   39.00   47.250   \n",
       "Height         76.0  170.776316  11.419981  141.0  163.75  169.00  175.250   \n",
       "pre.weight     76.0   72.289474   7.974653   58.0   66.00   72.00   78.000   \n",
       "Diet           76.0    2.039474   0.823663    1.0    1.00    2.00    3.000   \n",
       "weight6weeks   76.0   68.343421   8.058938   53.0   61.95   68.95   73.675   \n",
       "\n",
       "                max  \n",
       "Age            60.0  \n",
       "Height        201.0  \n",
       "pre.weight     88.0  \n",
       "Diet            3.0  \n",
       "weight6weeks   84.5  "
      ]
     },
     "execution_count": 8,
     "metadata": {},
     "output_type": "execute_result"
    }
   ],
   "source": [
    "df.describe().T"
   ]
  },
  {
   "cell_type": "markdown",
   "metadata": {},
   "source": [
    "## Task 1: Ignore diet and test to see if weight has been lost\n",
    "\"Bỏ qua chế độ ăn kiêng và kiểm tra xem đã giảm cân chưa\""
   ]
  },
  {
   "cell_type": "markdown",
   "metadata": {},
   "source": [
    "### Phát biểu giả thiết:\n",
    "\n",
    "$H_0: \\mu_0 = \\mu_1$. Cân nặng trung bình của trước và sau khi giảm cân là như nhau \n",
    "\n",
    "$H_1: \\mu_0 \\neq \\mu_1$. Cân nặng trung bình của trước và sau khi giảm cân khác nhau\n"
   ]
  },
  {
   "cell_type": "code",
   "execution_count": 9,
   "metadata": {},
   "outputs": [],
   "source": [
    "pre = df['pre.weight']\n",
    "aft = df['weight6weeks']    "
   ]
  },
  {
   "cell_type": "code",
   "execution_count": 10,
   "metadata": {},
   "outputs": [],
   "source": [
    "def results(p, vals=['mean1', 'mean2'], alpha=0.05):\n",
    "    cols=['score', 'p_value', 'KetLuan']\n",
    "    if p['p_value'] < alpha:\n",
    "        p['KetLuan'] = f\"Chấp nhận H1 với mức ý nghĩa {alpha}\"\n",
    "    if p['p_value'] >= alpha:\n",
    "        p['KetLuan'] = f\"Chấp nhận H0 với mức ý nghĩa {alpha}\"\n",
    "    df = pd.DataFrame(p, index=[''])\n",
    "    if vals: cols = vals + cols\n",
    "    return df[cols]"
   ]
  },
  {
   "cell_type": "code",
   "execution_count": 11,
   "metadata": {},
   "outputs": [
    {
     "name": "stdout",
     "output_type": "stream",
     "text": [
      "Kiểm định t test 2 sample\n"
     ]
    },
    {
     "data": {
      "text/html": [
       "<div>\n",
       "<style scoped>\n",
       "    .dataframe tbody tr th:only-of-type {\n",
       "        vertical-align: middle;\n",
       "    }\n",
       "\n",
       "    .dataframe tbody tr th {\n",
       "        vertical-align: top;\n",
       "    }\n",
       "\n",
       "    .dataframe thead th {\n",
       "        text-align: right;\n",
       "    }\n",
       "</style>\n",
       "<table border=\"1\" class=\"dataframe\">\n",
       "  <thead>\n",
       "    <tr style=\"text-align: right;\">\n",
       "      <th></th>\n",
       "      <th>mean1</th>\n",
       "      <th>mean2</th>\n",
       "      <th>score</th>\n",
       "      <th>p_value</th>\n",
       "      <th>KetLuan</th>\n",
       "    </tr>\n",
       "  </thead>\n",
       "  <tbody>\n",
       "    <tr>\n",
       "      <th></th>\n",
       "      <td>72.289474</td>\n",
       "      <td>68.343421</td>\n",
       "      <td>3.034226</td>\n",
       "      <td>0.002843</td>\n",
       "      <td>Chấp nhận H1 với mức ý nghĩa 0.05</td>\n",
       "    </tr>\n",
       "  </tbody>\n",
       "</table>\n",
       "</div>"
      ],
      "text/plain": [
       "      mean1      mean2     score   p_value                            KetLuan\n",
       "  72.289474  68.343421  3.034226  0.002843  Chấp nhận H1 với mức ý nghĩa 0.05"
      ]
     },
     "execution_count": 11,
     "metadata": {},
     "output_type": "execute_result"
    }
   ],
   "source": [
    "from scipy import stats as st\n",
    "p = {}\n",
    "p['mean1'] = np.mean(pre)\n",
    "p['mean2'] = np.mean(aft)\n",
    "p['score'], p['p_value'] = st.ttest_ind(pre, aft)\n",
    "print('Kiểm định t test 2 sample')\n",
    "results(p)"
   ]
  },
  {
   "cell_type": "code",
   "execution_count": 12,
   "metadata": {},
   "outputs": [
    {
     "name": "stdout",
     "output_type": "stream",
     "text": [
      "stats: 3.0342255247628476 p: 0.0028431949414180584\n",
      "--------------------------------------------------\n",
      "Có đủ bằng chứng để bác bỏ giả thuyết H0. Điều này ngụ ý rằng cân nặng trước và sau khi giảm cân là có sự khác biệt.\n"
     ]
    }
   ],
   "source": [
    "from scipy import stats as st\n",
    "std1, p1 = st.ttest_ind(pre, aft)\n",
    "print('stats:',std1,'p:', p1)\n",
    "print(\"-\"*50)\n",
    "alpha = 0.05\n",
    "if p1 < alpha:\n",
    "    print('Có đủ bằng chứng để bác bỏ giả thuyết H0. Điều này ngụ ý rằng cân nặng trước và sau khi giảm cân là có sự khác biệt.')\n",
    "else:\n",
    "    print('Không đủ bằng chứng để bác bỏ giả thiết H0. Điều này ngụ ý rằng cân nặng trước và sau khi giảm cân không có sự khác biệt')"
   ]
  },
  {
   "cell_type": "code",
   "execution_count": 13,
   "metadata": {},
   "outputs": [
    {
     "data": {
      "text/plain": [
       "Text(0.5, 1.0, 'Weight before and after diet')"
      ]
     },
     "execution_count": 13,
     "metadata": {},
     "output_type": "execute_result"
    },
    {
     "data": {
      "text/plain": [
       "<Figure size 432x576 with 0 Axes>"
      ]
     },
     "metadata": {},
     "output_type": "display_data"
    },
    {
     "data": {
      "image/png": "[encoded data removed]",
      "text/plain": [
       "<Figure size 576x396 with 1 Axes>"
      ]
     },
     "metadata": {},
     "output_type": "display_data"
    }
   ],
   "source": [
    "# Biểu đồ cân nặng trước và sau 6 tuần\n",
    "sns.set_style(\"whitegrid\")\n",
    "plt.figure(figsize=(6, 8))\n",
    "plt.style.use('seaborn')\n",
    "df[['pre.weight', 'weight6weeks']].plot(color= ['b', 'y'])\n",
    "plt.title('Weight before and after diet', fontsize=20)"
   ]
  },
  {
   "cell_type": "markdown",
   "metadata": {},
   "source": [
    "## Task 2: Remove weight lost and get students to calculate it using before/after weights"
   ]
  },
  {
   "cell_type": "code",
   "execution_count": 14,
   "metadata": {},
   "outputs": [
    {
     "data": {
      "text/html": [
       "<div>\n",
       "<style scoped>\n",
       "    .dataframe tbody tr th:only-of-type {\n",
       "        vertical-align: middle;\n",
       "    }\n",
       "\n",
       "    .dataframe tbody tr th {\n",
       "        vertical-align: top;\n",
       "    }\n",
       "\n",
       "    .dataframe thead th {\n",
       "        text-align: right;\n",
       "    }\n",
       "</style>\n",
       "<table border=\"1\" class=\"dataframe\">\n",
       "  <thead>\n",
       "    <tr style=\"text-align: right;\">\n",
       "      <th></th>\n",
       "      <th>gender</th>\n",
       "      <th>Age</th>\n",
       "      <th>Height</th>\n",
       "      <th>pre.weight</th>\n",
       "      <th>Diet</th>\n",
       "      <th>weight6weeks</th>\n",
       "      <th>weightlost</th>\n",
       "    </tr>\n",
       "    <tr>\n",
       "      <th>Person</th>\n",
       "      <th></th>\n",
       "      <th></th>\n",
       "      <th></th>\n",
       "      <th></th>\n",
       "      <th></th>\n",
       "      <th></th>\n",
       "      <th></th>\n",
       "    </tr>\n",
       "  </thead>\n",
       "  <tbody>\n",
       "    <tr>\n",
       "      <th>1</th>\n",
       "      <td>0</td>\n",
       "      <td>22</td>\n",
       "      <td>159</td>\n",
       "      <td>58</td>\n",
       "      <td>1</td>\n",
       "      <td>54.2</td>\n",
       "      <td>3.8</td>\n",
       "    </tr>\n",
       "    <tr>\n",
       "      <th>2</th>\n",
       "      <td>0</td>\n",
       "      <td>46</td>\n",
       "      <td>192</td>\n",
       "      <td>60</td>\n",
       "      <td>1</td>\n",
       "      <td>54.0</td>\n",
       "      <td>6.0</td>\n",
       "    </tr>\n",
       "    <tr>\n",
       "      <th>3</th>\n",
       "      <td>0</td>\n",
       "      <td>55</td>\n",
       "      <td>170</td>\n",
       "      <td>64</td>\n",
       "      <td>1</td>\n",
       "      <td>63.3</td>\n",
       "      <td>0.7</td>\n",
       "    </tr>\n",
       "    <tr>\n",
       "      <th>4</th>\n",
       "      <td>0</td>\n",
       "      <td>33</td>\n",
       "      <td>171</td>\n",
       "      <td>64</td>\n",
       "      <td>1</td>\n",
       "      <td>61.1</td>\n",
       "      <td>2.9</td>\n",
       "    </tr>\n",
       "    <tr>\n",
       "      <th>5</th>\n",
       "      <td>0</td>\n",
       "      <td>50</td>\n",
       "      <td>170</td>\n",
       "      <td>65</td>\n",
       "      <td>1</td>\n",
       "      <td>62.2</td>\n",
       "      <td>2.8</td>\n",
       "    </tr>\n",
       "    <tr>\n",
       "      <th>...</th>\n",
       "      <td>...</td>\n",
       "      <td>...</td>\n",
       "      <td>...</td>\n",
       "      <td>...</td>\n",
       "      <td>...</td>\n",
       "      <td>...</td>\n",
       "      <td>...</td>\n",
       "    </tr>\n",
       "    <tr>\n",
       "      <th>74</th>\n",
       "      <td>1</td>\n",
       "      <td>35</td>\n",
       "      <td>183</td>\n",
       "      <td>83</td>\n",
       "      <td>3</td>\n",
       "      <td>80.2</td>\n",
       "      <td>2.8</td>\n",
       "    </tr>\n",
       "    <tr>\n",
       "      <th>75</th>\n",
       "      <td>1</td>\n",
       "      <td>49</td>\n",
       "      <td>177</td>\n",
       "      <td>84</td>\n",
       "      <td>3</td>\n",
       "      <td>79.9</td>\n",
       "      <td>4.1</td>\n",
       "    </tr>\n",
       "    <tr>\n",
       "      <th>76</th>\n",
       "      <td>1</td>\n",
       "      <td>28</td>\n",
       "      <td>164</td>\n",
       "      <td>85</td>\n",
       "      <td>3</td>\n",
       "      <td>79.7</td>\n",
       "      <td>5.3</td>\n",
       "    </tr>\n",
       "    <tr>\n",
       "      <th>77</th>\n",
       "      <td>1</td>\n",
       "      <td>40</td>\n",
       "      <td>167</td>\n",
       "      <td>87</td>\n",
       "      <td>3</td>\n",
       "      <td>77.8</td>\n",
       "      <td>9.2</td>\n",
       "    </tr>\n",
       "    <tr>\n",
       "      <th>78</th>\n",
       "      <td>1</td>\n",
       "      <td>51</td>\n",
       "      <td>175</td>\n",
       "      <td>88</td>\n",
       "      <td>3</td>\n",
       "      <td>81.9</td>\n",
       "      <td>6.1</td>\n",
       "    </tr>\n",
       "  </tbody>\n",
       "</table>\n",
       "<p>76 rows × 7 columns</p>\n",
       "</div>"
      ],
      "text/plain": [
       "       gender  Age  Height  pre.weight  Diet  weight6weeks  weightlost\n",
       "Person                                                                \n",
       "1           0   22     159          58     1          54.2         3.8\n",
       "2           0   46     192          60     1          54.0         6.0\n",
       "3           0   55     170          64     1          63.3         0.7\n",
       "4           0   33     171          64     1          61.1         2.9\n",
       "5           0   50     170          65     1          62.2         2.8\n",
       "...       ...  ...     ...         ...   ...           ...         ...\n",
       "74          1   35     183          83     3          80.2         2.8\n",
       "75          1   49     177          84     3          79.9         4.1\n",
       "76          1   28     164          85     3          79.7         5.3\n",
       "77          1   40     167          87     3          77.8         9.2\n",
       "78          1   51     175          88     3          81.9         6.1\n",
       "\n",
       "[76 rows x 7 columns]"
      ]
     },
     "execution_count": 14,
     "metadata": {},
     "output_type": "execute_result"
    }
   ],
   "source": [
    "df['weightlost'] = df['pre.weight'] - df['weight6weeks']\n",
    "df"
   ]
  },
  {
   "cell_type": "code",
   "execution_count": 15,
   "metadata": {},
   "outputs": [
    {
     "name": "stderr",
     "output_type": "stream",
     "text": [
      "C:\\Users\\Admin\\anaconda3\\lib\\site-packages\\seaborn\\distributions.py:2551: FutureWarning: `distplot` is a deprecated function and will be removed in a future version. Please adapt your code to use either `displot` (a figure-level function with similar flexibility) or `histplot` (an axes-level function for histograms).\n",
      "  warnings.warn(msg, FutureWarning)\n"
     ]
    },
    {
     "data": {
      "text/plain": [
       "Text(0.5, 1.0, 'Weight lost')"
      ]
     },
     "execution_count": 15,
     "metadata": {},
     "output_type": "execute_result"
    },
    {
     "data": {
      "image/png": "[encoded data removed]",
      "text/plain": [
       "<Figure size 576x396 with 1 Axes>"
      ]
     },
     "metadata": {},
     "output_type": "display_data"
    }
   ],
   "source": [
    "sns.set_style(\"whitegrid\")\n",
    "sns.distplot(df['weightlost'], color='r')\n",
    "plt.ylabel('Percent')\n",
    "plt.axvline(df['weightlost'].mean(), color=\"black\", linestyle=\"dashed\", linewidth=5)\n",
    "plt.title('Weight lost', size=20, color='b')"
   ]
  },
  {
   "cell_type": "markdown",
   "metadata": {},
   "source": [
    "## Task 3: Summary statistics\n",
    "**Summary statistics by diet**"
   ]
  },
  {
   "cell_type": "code",
   "execution_count": 16,
   "metadata": {},
   "outputs": [
    {
     "data": {
      "text/plain": [
       "count    76.000000\n",
       "mean      2.039474\n",
       "std       0.823663\n",
       "min       1.000000\n",
       "25%       1.000000\n",
       "50%       2.000000\n",
       "75%       3.000000\n",
       "max       3.000000\n",
       "Name: Diet, dtype: float64"
      ]
     },
     "execution_count": 16,
     "metadata": {},
     "output_type": "execute_result"
    }
   ],
   "source": [
    "df['Diet'].describe()"
   ]
  },
  {
   "cell_type": "code",
   "execution_count": 17,
   "metadata": {},
   "outputs": [
    {
     "data": {
      "text/html": [
       "<div>\n",
       "<style scoped>\n",
       "    .dataframe tbody tr th:only-of-type {\n",
       "        vertical-align: middle;\n",
       "    }\n",
       "\n",
       "    .dataframe tbody tr th {\n",
       "        vertical-align: top;\n",
       "    }\n",
       "\n",
       "    .dataframe thead th {\n",
       "        text-align: right;\n",
       "    }\n",
       "</style>\n",
       "<table border=\"1\" class=\"dataframe\">\n",
       "  <thead>\n",
       "    <tr style=\"text-align: right;\">\n",
       "      <th></th>\n",
       "      <th>Frequency</th>\n",
       "      <th>Percent</th>\n",
       "    </tr>\n",
       "    <tr>\n",
       "      <th>Diet</th>\n",
       "      <th></th>\n",
       "      <th></th>\n",
       "    </tr>\n",
       "  </thead>\n",
       "  <tbody>\n",
       "    <tr>\n",
       "      <th>1</th>\n",
       "      <td>24</td>\n",
       "      <td>31.578947</td>\n",
       "    </tr>\n",
       "    <tr>\n",
       "      <th>2</th>\n",
       "      <td>25</td>\n",
       "      <td>32.894737</td>\n",
       "    </tr>\n",
       "    <tr>\n",
       "      <th>3</th>\n",
       "      <td>27</td>\n",
       "      <td>35.526316</td>\n",
       "    </tr>\n",
       "  </tbody>\n",
       "</table>\n",
       "</div>"
      ],
      "text/plain": [
       "      Frequency    Percent\n",
       "Diet                      \n",
       "1            24  31.578947\n",
       "2            25  32.894737\n",
       "3            27  35.526316"
      ]
     },
     "execution_count": 17,
     "metadata": {},
     "output_type": "execute_result"
    }
   ],
   "source": [
    "# Bảng tần số\n",
    "diet = df.groupby('Diet')['Diet'].count()\n",
    "diet = pd.DataFrame(diet)\n",
    "diet.columns = ['Frequency']\n",
    "diet['Percent'] = diet/sum(diet['Frequency'])*100\n",
    "diet"
   ]
  },
  {
   "cell_type": "code",
   "execution_count": 18,
   "metadata": {},
   "outputs": [
    {
     "data": {
      "image/png": "[encoded data removed]",
      "text/plain": [
       "<Figure size 576x396 with 1 Axes>"
      ]
     },
     "metadata": {},
     "output_type": "display_data"
    }
   ],
   "source": [
    "diet.reset_index(inplace=True)\n",
    "\n",
    "fig, ax = plt.subplots()\n",
    "ax =sns.barplot(x='Frequency',y='Diet',data = diet, orient='h')\n",
    "plt.title('Thống kê chế độ ăn', size=20, color='r')\n",
    "fig.tight_layout()"
   ]
  },
  {
   "cell_type": "markdown",
   "metadata": {},
   "source": [
    "# Task 4: One way ANOVA\n",
    "\n",
    "### 4.1: Which diet was best for losing weight?\n",
    "\n",
    "Xây dựng giả thiết:\n",
    "\n",
    "- $H_0: \\mu_1 = \\mu_2 = \\mu_3$\n",
    "\n",
    "- $H_1: \\mu_i \\neq \\mu_j$ (i $\\neq$ j ,  i, j $\\in \\overline{1,3}$)"
   ]
  },
  {
   "cell_type": "code",
   "execution_count": 19,
   "metadata": {},
   "outputs": [
    {
     "data": {
      "text/html": [
       "<div>\n",
       "<style scoped>\n",
       "    .dataframe tbody tr th:only-of-type {\n",
       "        vertical-align: middle;\n",
       "    }\n",
       "\n",
       "    .dataframe tbody tr th {\n",
       "        vertical-align: top;\n",
       "    }\n",
       "\n",
       "    .dataframe thead th {\n",
       "        text-align: right;\n",
       "    }\n",
       "</style>\n",
       "<table border=\"1\" class=\"dataframe\">\n",
       "  <thead>\n",
       "    <tr style=\"text-align: right;\">\n",
       "      <th></th>\n",
       "      <th>Diet</th>\n",
       "      <th>weightlost</th>\n",
       "    </tr>\n",
       "    <tr>\n",
       "      <th>Person</th>\n",
       "      <th></th>\n",
       "      <th></th>\n",
       "    </tr>\n",
       "  </thead>\n",
       "  <tbody>\n",
       "    <tr>\n",
       "      <th>1</th>\n",
       "      <td>1</td>\n",
       "      <td>3.8</td>\n",
       "    </tr>\n",
       "    <tr>\n",
       "      <th>2</th>\n",
       "      <td>1</td>\n",
       "      <td>6.0</td>\n",
       "    </tr>\n",
       "    <tr>\n",
       "      <th>3</th>\n",
       "      <td>1</td>\n",
       "      <td>0.7</td>\n",
       "    </tr>\n",
       "    <tr>\n",
       "      <th>4</th>\n",
       "      <td>1</td>\n",
       "      <td>2.9</td>\n",
       "    </tr>\n",
       "    <tr>\n",
       "      <th>5</th>\n",
       "      <td>1</td>\n",
       "      <td>2.8</td>\n",
       "    </tr>\n",
       "    <tr>\n",
       "      <th>...</th>\n",
       "      <td>...</td>\n",
       "      <td>...</td>\n",
       "    </tr>\n",
       "    <tr>\n",
       "      <th>74</th>\n",
       "      <td>3</td>\n",
       "      <td>2.8</td>\n",
       "    </tr>\n",
       "    <tr>\n",
       "      <th>75</th>\n",
       "      <td>3</td>\n",
       "      <td>4.1</td>\n",
       "    </tr>\n",
       "    <tr>\n",
       "      <th>76</th>\n",
       "      <td>3</td>\n",
       "      <td>5.3</td>\n",
       "    </tr>\n",
       "    <tr>\n",
       "      <th>77</th>\n",
       "      <td>3</td>\n",
       "      <td>9.2</td>\n",
       "    </tr>\n",
       "    <tr>\n",
       "      <th>78</th>\n",
       "      <td>3</td>\n",
       "      <td>6.1</td>\n",
       "    </tr>\n",
       "  </tbody>\n",
       "</table>\n",
       "<p>76 rows × 2 columns</p>\n",
       "</div>"
      ],
      "text/plain": [
       "        Diet  weightlost\n",
       "Person                  \n",
       "1          1         3.8\n",
       "2          1         6.0\n",
       "3          1         0.7\n",
       "4          1         2.9\n",
       "5          1         2.8\n",
       "...      ...         ...\n",
       "74         3         2.8\n",
       "75         3         4.1\n",
       "76         3         5.3\n",
       "77         3         9.2\n",
       "78         3         6.1\n",
       "\n",
       "[76 rows x 2 columns]"
      ]
     },
     "execution_count": 19,
     "metadata": {},
     "output_type": "execute_result"
    }
   ],
   "source": [
    "task4 = df[['Diet', 'weightlost']]\n",
    "task4"
   ]
  },
  {
   "cell_type": "code",
   "execution_count": 20,
   "metadata": {},
   "outputs": [],
   "source": [
    "diet = task4.groupby('Diet').groups\n",
    "# Lấy giá trị tương ứng ở cột des_weight \n",
    "type_1 = df['weightlost'][diet[1]]\n",
    "type_1.name = 'Diet Type 1'\n",
    "type_2 = df['weightlost'][diet[2]]\n",
    "type_2.name = 'Diet Type 2'\n",
    "type_3 = df['weightlost'][diet[3]]\n",
    "type_3.name = 'Diet Type 3'"
   ]
  },
  {
   "cell_type": "markdown",
   "metadata": {},
   "source": [
    "## Kiểm tra mỗi nhóm có thuộc phân phối chuẩn chưa\n",
    "\n",
    "### Sử dụng Shapiro-Wilk test \n",
    "\n",
    "Phát biểu giả thiết:\n",
    "\n",
    "$H_0$: Phân phối của feature là chuẩn\n",
    "\n",
    "$H_1$: Phân phối của feature là không chuẩn"
   ]
  },
  {
   "cell_type": "code",
   "execution_count": 21,
   "metadata": {},
   "outputs": [],
   "source": [
    "# Kiểm tra định\n",
    "from scipy.stats import shapiro\n",
    "def shapiro_test(data):\n",
    "    fig,axes = plt.subplots(nrows=1,ncols=2,dpi=120,figsize = (8,4))\n",
    "    sns.distplot(data, ax=axes[0], color='green')\n",
    "    plt.tight_layout()\n",
    "\n",
    "    data = (data - data.mean()) / data.std()\n",
    "    sm.qqplot(data,ax=axes[1], line='45')\n",
    "    plt.tight_layout()\n",
    "    fig.suptitle(data.name, size=18)\n",
    "\n",
    "    stat, p = shapiro(data)\n",
    "    print('Kiểm định Shapiro cho',data.name)\n",
    "    print('stat=%.3f, p=%.3f' % (stat, p))\n",
    "    if p > 0.05:\n",
    "        print('Không thể bác bỏ giả thiết H0: Phân phối của dữ liệu là chuẩn')\n",
    "        print('Đủ điều kiện để phân tích tiếp')\n",
    "    else:\n",
    "        print('Dữ liệu không tuân theo luật phân phối chuẩn')\n",
    "    print('-'*50)"
   ]
  },
  {
   "cell_type": "code",
   "execution_count": 22,
   "metadata": {},
   "outputs": [
    {
     "name": "stderr",
     "output_type": "stream",
     "text": [
      "C:\\Users\\Admin\\anaconda3\\lib\\site-packages\\seaborn\\distributions.py:2551: FutureWarning: `distplot` is a deprecated function and will be removed in a future version. Please adapt your code to use either `displot` (a figure-level function with similar flexibility) or `histplot` (an axes-level function for histograms).\n",
      "  warnings.warn(msg, FutureWarning)\n"
     ]
    },
    {
     "name": "stdout",
     "output_type": "stream",
     "text": [
      "Kiểm định Shapiro cho Diet Type 1\n",
      "stat=0.926, p=0.077\n",
      "Không thể bác bỏ giả thiết H0: Phân phối của dữ liệu là chuẩn\n",
      "Đủ điều kiện để phân tích tiếp\n",
      "--------------------------------------------------\n"
     ]
    },
    {
     "data": {
      "image/png": "[encoded data removed]",
      "text/plain": [
       "<Figure size 960x480 with 2 Axes>"
      ]
     },
     "metadata": {},
     "output_type": "display_data"
    }
   ],
   "source": [
    "shapiro_test(type_1)"
   ]
  },
  {
   "cell_type": "code",
   "execution_count": 23,
   "metadata": {},
   "outputs": [
    {
     "name": "stderr",
     "output_type": "stream",
     "text": [
      "C:\\Users\\Admin\\anaconda3\\lib\\site-packages\\seaborn\\distributions.py:2551: FutureWarning: `distplot` is a deprecated function and will be removed in a future version. Please adapt your code to use either `displot` (a figure-level function with similar flexibility) or `histplot` (an axes-level function for histograms).\n",
      "  warnings.warn(msg, FutureWarning)\n"
     ]
    },
    {
     "name": "stdout",
     "output_type": "stream",
     "text": [
      "Kiểm định Shapiro cho Diet Type 2\n",
      "stat=0.979, p=0.872\n",
      "Không thể bác bỏ giả thiết H0: Phân phối của dữ liệu là chuẩn\n",
      "Đủ điều kiện để phân tích tiếp\n",
      "--------------------------------------------------\n"
     ]
    },
    {
     "data": {
      "image/png": "[encoded data removed]",
      "text/plain": [
       "<Figure size 960x480 with 2 Axes>"
      ]
     },
     "metadata": {},
     "output_type": "display_data"
    }
   ],
   "source": [
    "shapiro_test(type_2)"
   ]
  },
  {
   "cell_type": "code",
   "execution_count": 24,
   "metadata": {},
   "outputs": [
    {
     "name": "stderr",
     "output_type": "stream",
     "text": [
      "C:\\Users\\Admin\\anaconda3\\lib\\site-packages\\seaborn\\distributions.py:2551: FutureWarning: `distplot` is a deprecated function and will be removed in a future version. Please adapt your code to use either `displot` (a figure-level function with similar flexibility) or `histplot` (an axes-level function for histograms).\n",
      "  warnings.warn(msg, FutureWarning)\n"
     ]
    },
    {
     "name": "stdout",
     "output_type": "stream",
     "text": [
      "Kiểm định Shapiro cho Diet Type 3\n",
      "stat=0.960, p=0.372\n",
      "Không thể bác bỏ giả thiết H0: Phân phối của dữ liệu là chuẩn\n",
      "Đủ điều kiện để phân tích tiếp\n",
      "--------------------------------------------------\n"
     ]
    },
    {
     "data": {
      "image/png": "[encoded data removed]",
      "text/plain": [
       "<Figure size 960x480 with 2 Axes>"
      ]
     },
     "metadata": {},
     "output_type": "display_data"
    }
   ],
   "source": [
    "shapiro_test(type_3)"
   ]
  },
  {
   "cell_type": "markdown",
   "metadata": {},
   "source": [
    "## Kiểm định tính thuần nhất phương sai (homogeneity of variance)\n",
    "\n",
    "### Bartlett’s Test\n",
    "\n",
    "Phát biểu các giả thiết:\n",
    "\n",
    "\n",
    "$H_0$: Các feature đều có phương sai đồng nhất \n",
    "\n",
    "$H_1$: Có ít nhất 2 feature có phương sai khác nhau (lớn)\n",
    "\n",
    "Chú ý: Nếu p < 0.05 = $\\alpha$ thì loại giả thiết $H_0$. Tức là các feature không đồng nhất về phương sai."
   ]
  },
  {
   "cell_type": "code",
   "execution_count": 25,
   "metadata": {},
   "outputs": [],
   "source": [
    "def results(p, alpha=0.05):\n",
    "    cols=['score', 'p_value', 'KetLuan']\n",
    "    if p['p_value'] < alpha:\n",
    "        p['KetLuan'] = f\"Chấp nhận H1 với mức ý nghĩa {alpha}\"\n",
    "    if p['p_value'] >= alpha:\n",
    "        p['KetLuan'] = f\"Chấp nhận H0 với mức ý nghĩa {alpha}\"\n",
    "    df = pd.DataFrame(p, index=[''])\n",
    "    return df[cols]"
   ]
  },
  {
   "cell_type": "code",
   "execution_count": 26,
   "metadata": {},
   "outputs": [
    {
     "name": "stdout",
     "output_type": "stream",
     "text": [
      "Không thể bác bỏ giả thiết H0. Các feature đồng nhất về phương sai\n",
      "Đủ điều kiện đê phân tích ANOVA\n"
     ]
    },
    {
     "data": {
      "text/html": [
       "<div>\n",
       "<style scoped>\n",
       "    .dataframe tbody tr th:only-of-type {\n",
       "        vertical-align: middle;\n",
       "    }\n",
       "\n",
       "    .dataframe tbody tr th {\n",
       "        vertical-align: top;\n",
       "    }\n",
       "\n",
       "    .dataframe thead th {\n",
       "        text-align: right;\n",
       "    }\n",
       "</style>\n",
       "<table border=\"1\" class=\"dataframe\">\n",
       "  <thead>\n",
       "    <tr style=\"text-align: right;\">\n",
       "      <th></th>\n",
       "      <th>score</th>\n",
       "      <th>p_value</th>\n",
       "      <th>KetLuan</th>\n",
       "    </tr>\n",
       "  </thead>\n",
       "  <tbody>\n",
       "    <tr>\n",
       "      <th></th>\n",
       "      <td>0.218111</td>\n",
       "      <td>0.89668</td>\n",
       "      <td>Chấp nhận H0 với mức ý nghĩa 0.05</td>\n",
       "    </tr>\n",
       "  </tbody>\n",
       "</table>\n",
       "</div>"
      ],
      "text/plain": [
       "     score  p_value                            KetLuan\n",
       "  0.218111  0.89668  Chấp nhận H0 với mức ý nghĩa 0.05"
      ]
     },
     "execution_count": 26,
     "metadata": {},
     "output_type": "execute_result"
    }
   ],
   "source": [
    "p={}\n",
    "from scipy.stats import bartlett\n",
    "p['score'], p['p_value'] = bartlett(type_1, type_2, type_3)\n",
    "if p['p_value'] > 0.05:\n",
    "    print('Không thể bác bỏ giả thiết H0. Các feature đồng nhất về phương sai')\n",
    "    print('Đủ điều kiện đê phân tích ANOVA')\n",
    "else:\n",
    "    print('Các feature không đồng nhất về phương sai')\n",
    "results(p)"
   ]
  },
  {
   "cell_type": "markdown",
   "metadata": {},
   "source": [
    "### Phân tích ANOVA"
   ]
  },
  {
   "cell_type": "code",
   "execution_count": 27,
   "metadata": {},
   "outputs": [
    {
     "name": "stdout",
     "output_type": "stream",
     "text": [
      "Có bằng chứng bác bỏ giả thuyết H0. Điều này ngụ ý rằng hiệu quả giữa các phương pháp có sự khác biệt\n"
     ]
    },
    {
     "data": {
      "text/html": [
       "<div>\n",
       "<style scoped>\n",
       "    .dataframe tbody tr th:only-of-type {\n",
       "        vertical-align: middle;\n",
       "    }\n",
       "\n",
       "    .dataframe tbody tr th {\n",
       "        vertical-align: top;\n",
       "    }\n",
       "\n",
       "    .dataframe thead th {\n",
       "        text-align: right;\n",
       "    }\n",
       "</style>\n",
       "<table border=\"1\" class=\"dataframe\">\n",
       "  <thead>\n",
       "    <tr style=\"text-align: right;\">\n",
       "      <th></th>\n",
       "      <th>score</th>\n",
       "      <th>p_value</th>\n",
       "      <th>KetLuan</th>\n",
       "    </tr>\n",
       "  </thead>\n",
       "  <tbody>\n",
       "    <tr>\n",
       "      <th></th>\n",
       "      <td>5.383104</td>\n",
       "      <td>0.006596</td>\n",
       "      <td>Chấp nhận H1 với mức ý nghĩa 0.05</td>\n",
       "    </tr>\n",
       "  </tbody>\n",
       "</table>\n",
       "</div>"
      ],
      "text/plain": [
       "     score   p_value                            KetLuan\n",
       "  5.383104  0.006596  Chấp nhận H1 với mức ý nghĩa 0.05"
      ]
     },
     "execution_count": 27,
     "metadata": {},
     "output_type": "execute_result"
    }
   ],
   "source": [
    "# Tiến hành phân tích ANOVA 1 chiều\n",
    "p={}\n",
    "from scipy.stats import f_oneway\n",
    "p['score'], p['p_value'] = f_oneway(type_1, type_2, type_3)\n",
    "alpha = 0.05\n",
    "if (p['p_value'] < alpha):\n",
    "    print('Có bằng chứng bác bỏ giả thuyết H0. Điều này ngụ ý rằng hiệu quả giữa các phương pháp có sự khác biệt')\n",
    "else:\n",
    "    print('Không đủ bằng chứng bác bỏ giả thuyết H0. Điều này ngụ ý rằng hiệu quả giữa các phương pháp không có sự khác biệt.')\n",
    "results(p)"
   ]
  },
  {
   "cell_type": "code",
   "execution_count": 28,
   "metadata": {},
   "outputs": [
    {
     "data": {
      "text/html": [
       "<div>\n",
       "<style scoped>\n",
       "    .dataframe tbody tr th:only-of-type {\n",
       "        vertical-align: middle;\n",
       "    }\n",
       "\n",
       "    .dataframe tbody tr th {\n",
       "        vertical-align: top;\n",
       "    }\n",
       "\n",
       "    .dataframe thead th {\n",
       "        text-align: right;\n",
       "    }\n",
       "</style>\n",
       "<table border=\"1\" class=\"dataframe\">\n",
       "  <thead>\n",
       "    <tr style=\"text-align: right;\">\n",
       "      <th></th>\n",
       "      <th>sum_sq</th>\n",
       "      <th>df</th>\n",
       "      <th>F</th>\n",
       "      <th>PR(&gt;F)</th>\n",
       "    </tr>\n",
       "  </thead>\n",
       "  <tbody>\n",
       "    <tr>\n",
       "      <th>C(Diet)</th>\n",
       "      <td>60.527008</td>\n",
       "      <td>2.0</td>\n",
       "      <td>5.383104</td>\n",
       "      <td>0.006596</td>\n",
       "    </tr>\n",
       "    <tr>\n",
       "      <th>Residual</th>\n",
       "      <td>410.401807</td>\n",
       "      <td>73.0</td>\n",
       "      <td>NaN</td>\n",
       "      <td>NaN</td>\n",
       "    </tr>\n",
       "  </tbody>\n",
       "</table>\n",
       "</div>"
      ],
      "text/plain": [
       "              sum_sq    df         F    PR(>F)\n",
       "C(Diet)    60.527008   2.0  5.383104  0.006596\n",
       "Residual  410.401807  73.0       NaN       NaN"
      ]
     },
     "execution_count": 28,
     "metadata": {},
     "output_type": "execute_result"
    }
   ],
   "source": [
    "# ANOVA table\n",
    "\n",
    "import statsmodels.api as sm\n",
    "from statsmodels.formula.api import ols\n",
    "\n",
    "model = ols('weightlost ~ C(Diet)', data=df).fit()\n",
    "aov_table = sm.stats.anova_lm(model, typ=2)\n",
    "aov_table"
   ]
  },
  {
   "cell_type": "markdown",
   "metadata": {},
   "source": [
    "### Hậu kiểm ANOVA"
   ]
  },
  {
   "cell_type": "code",
   "execution_count": 29,
   "metadata": {},
   "outputs": [
    {
     "data": {
      "text/html": [
       "<table class=\"simpletable\">\n",
       "<caption>Multiple Comparison of Means - Tukey HSD, FWER=0.05</caption>\n",
       "<tr>\n",
       "  <th>group1</th> <th>group2</th> <th>meandiff</th>  <th>p-adj</th>  <th>lower</th>   <th>upper</th> <th>reject</th>\n",
       "</tr>\n",
       "<tr>\n",
       "     <td>1</td>      <td>2</td>    <td>-0.032</td>    <td>0.9</td>  <td>-1.6531</td> <td>1.5891</td>  <td>False</td>\n",
       "</tr>\n",
       "<tr>\n",
       "     <td>1</td>      <td>3</td>    <td>1.8481</td>  <td>0.0188</td> <td>0.2567</td>  <td>3.4396</td>  <td>True</td> \n",
       "</tr>\n",
       "<tr>\n",
       "     <td>2</td>      <td>3</td>    <td>1.8801</td>  <td>0.0152</td> <td>0.3057</td>  <td>3.4546</td>  <td>True</td> \n",
       "</tr>\n",
       "</table>"
      ],
      "text/plain": [
       "<class 'statsmodels.iolib.table.SimpleTable'>"
      ]
     },
     "execution_count": 29,
     "metadata": {},
     "output_type": "execute_result"
    }
   ],
   "source": [
    "# Hậu kiểm ANOVA\n",
    "from statsmodels.stats.multicomp import pairwise_tukeyhsd\n",
    "tukey = pairwise_tukeyhsd(endog=df['weightlost'],\n",
    "                          groups=df['Diet'],\n",
    "                          alpha=0.05)\n",
    "tukey.summary()"
   ]
  },
  {
   "cell_type": "code",
   "execution_count": 30,
   "metadata": {},
   "outputs": [
    {
     "data": {
      "image/png": "[encoded data removed]",
      "text/plain": [
       "<Figure size 576x396 with 1 Axes>"
      ]
     },
     "metadata": {},
     "output_type": "display_data"
    }
   ],
   "source": [
    "# Kỹ thuật EDA:\n",
    "sns.boxplot(x='Diet', y='weightlost', data=df, color='cyan')\n",
    "sns.swarmplot(x=\"Diet\", y=\"weightlost\", data=df, color='blue')\n",
    "plt.title('Compare 3 type of diet ', size=18)\n",
    "plt.show()"
   ]
  },
  {
   "cell_type": "code",
   "execution_count": 31,
   "metadata": {},
   "outputs": [
    {
     "data": {
      "text/html": [
       "<div>\n",
       "<style scoped>\n",
       "    .dataframe tbody tr th:only-of-type {\n",
       "        vertical-align: middle;\n",
       "    }\n",
       "\n",
       "    .dataframe tbody tr th {\n",
       "        vertical-align: top;\n",
       "    }\n",
       "\n",
       "    .dataframe thead th {\n",
       "        text-align: right;\n",
       "    }\n",
       "</style>\n",
       "<table border=\"1\" class=\"dataframe\">\n",
       "  <thead>\n",
       "    <tr style=\"text-align: right;\">\n",
       "      <th></th>\n",
       "      <th>Type</th>\n",
       "      <th>Range</th>\n",
       "      <th>Std</th>\n",
       "    </tr>\n",
       "  </thead>\n",
       "  <tbody>\n",
       "    <tr>\n",
       "      <th>0</th>\n",
       "      <td>1</td>\n",
       "      <td>9.6</td>\n",
       "      <td>2.240148</td>\n",
       "    </tr>\n",
       "    <tr>\n",
       "      <th>1</th>\n",
       "      <td>2</td>\n",
       "      <td>10.0</td>\n",
       "      <td>2.464535</td>\n",
       "    </tr>\n",
       "    <tr>\n",
       "      <th>2</th>\n",
       "      <td>3</td>\n",
       "      <td>8.7</td>\n",
       "      <td>2.395568</td>\n",
       "    </tr>\n",
       "  </tbody>\n",
       "</table>\n",
       "</div>"
      ],
      "text/plain": [
       "  Type  Range       Std\n",
       "0    1    9.6  2.240148\n",
       "1    2   10.0  2.464535\n",
       "2    3    8.7  2.395568"
      ]
     },
     "execution_count": 31,
     "metadata": {},
     "output_type": "execute_result"
    }
   ],
   "source": [
    "Range = [type_1.max()-type_1.min(), type_2.max()-type_2.min(), type_3.max()-type_3.min()]\n",
    "Std = [type_1.std(), type_2.std(), type_3.std()]\n",
    "Name = ['1', '2', '3']\n",
    "table = list(zip(Name, Range, Std))\n",
    "table = pd.DataFrame(table)\n",
    "table.columns = ['Type', 'Range', 'Std']\n",
    "table"
   ]
  },
  {
   "cell_type": "markdown",
   "metadata": {},
   "source": [
    "### 4.2: Are there gender differences for weight lost?\n",
    "\n",
    "- Xây dựng giả thuyết \n",
    "\n",
    "$H_0:$ Có sự khác biệt giới tính trong việc giảm cân\n",
    "\n",
    "$H_0:$ Không có sự khác biệt giới tính trong việc giảm cân."
   ]
  },
  {
   "cell_type": "code",
   "execution_count": 32,
   "metadata": {},
   "outputs": [
    {
     "data": {
      "text/html": [
       "<div>\n",
       "<style scoped>\n",
       "    .dataframe tbody tr th:only-of-type {\n",
       "        vertical-align: middle;\n",
       "    }\n",
       "\n",
       "    .dataframe tbody tr th {\n",
       "        vertical-align: top;\n",
       "    }\n",
       "\n",
       "    .dataframe thead th {\n",
       "        text-align: right;\n",
       "    }\n",
       "</style>\n",
       "<table border=\"1\" class=\"dataframe\">\n",
       "  <thead>\n",
       "    <tr style=\"text-align: right;\">\n",
       "      <th></th>\n",
       "      <th>gender</th>\n",
       "      <th>weightlost</th>\n",
       "    </tr>\n",
       "    <tr>\n",
       "      <th>Person</th>\n",
       "      <th></th>\n",
       "      <th></th>\n",
       "    </tr>\n",
       "  </thead>\n",
       "  <tbody>\n",
       "    <tr>\n",
       "      <th>1</th>\n",
       "      <td>0</td>\n",
       "      <td>3.8</td>\n",
       "    </tr>\n",
       "    <tr>\n",
       "      <th>2</th>\n",
       "      <td>0</td>\n",
       "      <td>6.0</td>\n",
       "    </tr>\n",
       "    <tr>\n",
       "      <th>3</th>\n",
       "      <td>0</td>\n",
       "      <td>0.7</td>\n",
       "    </tr>\n",
       "    <tr>\n",
       "      <th>4</th>\n",
       "      <td>0</td>\n",
       "      <td>2.9</td>\n",
       "    </tr>\n",
       "    <tr>\n",
       "      <th>5</th>\n",
       "      <td>0</td>\n",
       "      <td>2.8</td>\n",
       "    </tr>\n",
       "    <tr>\n",
       "      <th>...</th>\n",
       "      <td>...</td>\n",
       "      <td>...</td>\n",
       "    </tr>\n",
       "    <tr>\n",
       "      <th>74</th>\n",
       "      <td>1</td>\n",
       "      <td>2.8</td>\n",
       "    </tr>\n",
       "    <tr>\n",
       "      <th>75</th>\n",
       "      <td>1</td>\n",
       "      <td>4.1</td>\n",
       "    </tr>\n",
       "    <tr>\n",
       "      <th>76</th>\n",
       "      <td>1</td>\n",
       "      <td>5.3</td>\n",
       "    </tr>\n",
       "    <tr>\n",
       "      <th>77</th>\n",
       "      <td>1</td>\n",
       "      <td>9.2</td>\n",
       "    </tr>\n",
       "    <tr>\n",
       "      <th>78</th>\n",
       "      <td>1</td>\n",
       "      <td>6.1</td>\n",
       "    </tr>\n",
       "  </tbody>\n",
       "</table>\n",
       "<p>76 rows × 2 columns</p>\n",
       "</div>"
      ],
      "text/plain": [
       "       gender  weightlost\n",
       "Person                   \n",
       "1           0         3.8\n",
       "2           0         6.0\n",
       "3           0         0.7\n",
       "4           0         2.9\n",
       "5           0         2.8\n",
       "...       ...         ...\n",
       "74          1         2.8\n",
       "75          1         4.1\n",
       "76          1         5.3\n",
       "77          1         9.2\n",
       "78          1         6.1\n",
       "\n",
       "[76 rows x 2 columns]"
      ]
     },
     "execution_count": 32,
     "metadata": {},
     "output_type": "execute_result"
    }
   ],
   "source": [
    "data42 = df[['gender', 'weightlost']]\n",
    "data42"
   ]
  },
  {
   "cell_type": "code",
   "execution_count": 33,
   "metadata": {},
   "outputs": [],
   "source": [
    "# Nhóm các mẫu\n",
    "gr42 = data42.groupby('gender').groups\n",
    "female = data42['weightlost'][gr42['0']]\n",
    "female.name = 'Female'\n",
    "male = data42['weightlost'][gr42['1']]\n",
    "male.name = 'Male'"
   ]
  },
  {
   "cell_type": "markdown",
   "metadata": {},
   "source": [
    "## Kiểm tra mỗi nhóm có thuộc phân phối chuẩn chưa\n",
    "\n",
    "### Sử dụng Shapiro-Wilk test \n",
    "\n",
    "Phát biểu giả thiết:\n",
    "\n",
    "$H_0$: Phân phối của feature là chuẩn\n",
    "\n",
    "$H_1$: Phân phối của feature là không chuẩn"
   ]
  },
  {
   "cell_type": "code",
   "execution_count": 34,
   "metadata": {},
   "outputs": [
    {
     "name": "stderr",
     "output_type": "stream",
     "text": [
      "C:\\Users\\Admin\\anaconda3\\lib\\site-packages\\seaborn\\distributions.py:2551: FutureWarning: `distplot` is a deprecated function and will be removed in a future version. Please adapt your code to use either `displot` (a figure-level function with similar flexibility) or `histplot` (an axes-level function for histograms).\n",
      "  warnings.warn(msg, FutureWarning)\n"
     ]
    },
    {
     "name": "stdout",
     "output_type": "stream",
     "text": [
      "Kiểm định Shapiro cho Male\n",
      "stat=0.975, p=0.638\n",
      "Không thể bác bỏ giả thiết H0: Phân phối của dữ liệu là chuẩn\n",
      "Đủ điều kiện để phân tích tiếp\n"
     ]
    },
    {
     "data": {
      "image/png": "[encoded data removed]",
      "text/plain": [
       "<Figure size 960x480 with 2 Axes>"
      ]
     },
     "metadata": {},
     "output_type": "display_data"
    }
   ],
   "source": [
    "fig,axes = plt.subplots(nrows=1,ncols=2,dpi=120,figsize = (8,4))\n",
    "sns.distplot(male, ax=axes[0], color='blue')\n",
    "plt.tight_layout()\n",
    "\n",
    "male = (male - male.mean()) / male.std()\n",
    "sm.qqplot(male,ax=axes[1], line='45')\n",
    "plt.tight_layout()\n",
    "fig.suptitle(male.name, size=18)\n",
    "\n",
    "stat, p = shapiro(male)\n",
    "print('Kiểm định Shapiro cho', male.name)\n",
    "print('stat=%.3f, p=%.3f' % (stat, p))\n",
    "if p > 0.05:\n",
    "    print('Không thể bác bỏ giả thiết H0: Phân phối của dữ liệu là chuẩn')\n",
    "    print('Đủ điều kiện để phân tích tiếp')\n",
    "else:\n",
    "    print('Dữ liệu không tuân theo luật phân phối chuẩn')\n",
    "    print('-'*50)"
   ]
  },
  {
   "cell_type": "code",
   "execution_count": 35,
   "metadata": {},
   "outputs": [
    {
     "name": "stderr",
     "output_type": "stream",
     "text": [
      "C:\\Users\\Admin\\anaconda3\\lib\\site-packages\\seaborn\\distributions.py:2551: FutureWarning: `distplot` is a deprecated function and will be removed in a future version. Please adapt your code to use either `displot` (a figure-level function with similar flexibility) or `histplot` (an axes-level function for histograms).\n",
      "  warnings.warn(msg, FutureWarning)\n"
     ]
    },
    {
     "name": "stdout",
     "output_type": "stream",
     "text": [
      "Kiểm định Shapiro cho Female\n",
      "stat=0.970, p=0.305\n",
      "Không thể bác bỏ giả thiết H0: Phân phối của dữ liệu là chuẩn\n",
      "Đủ điều kiện để phân tích tiếp\n"
     ]
    },
    {
     "data": {
      "image/png": "[encoded data removed]",
      "text/plain": [
       "<Figure size 960x480 with 2 Axes>"
      ]
     },
     "metadata": {},
     "output_type": "display_data"
    }
   ],
   "source": [
    "fig,axes = plt.subplots(nrows=1,ncols=2,dpi=120,figsize = (8,4))\n",
    "sns.distplot(female, ax=axes[0], color='red')\n",
    "plt.tight_layout()\n",
    "\n",
    "female = (female - female.mean()) / female.std()\n",
    "sm.qqplot(female,ax=axes[1], line='45')\n",
    "plt.tight_layout()\n",
    "fig.suptitle(female.name, size=18)\n",
    "\n",
    "stat, p = shapiro(female)\n",
    "print('Kiểm định Shapiro cho', female.name)\n",
    "print('stat=%.3f, p=%.3f' % (stat, p))\n",
    "if p > 0.05:\n",
    "    print('Không thể bác bỏ giả thiết H0: Phân phối của dữ liệu là chuẩn')\n",
    "    print('Đủ điều kiện để phân tích tiếp')\n",
    "else:\n",
    "    print('Dữ liệu không tuân theo luật phân phối chuẩn')\n",
    "    print('-'*50)"
   ]
  },
  {
   "cell_type": "markdown",
   "metadata": {},
   "source": [
    "## Kiểm định tính thuần nhất phương sai (homogeneity of variance)\n",
    "\n",
    "### Bartlett’s Test\n",
    "\n",
    "Phát biểu các giả thiết:\n",
    "\n",
    "\n",
    "$H_0$: Các feature đều có phương sai đồng nhất \n",
    "\n",
    "$H_1$: Có ít nhất 2 feature có phương sai khác nhau (lớn)\n",
    "\n",
    "Chú ý: Nếu p < 0.05 = $\\alpha$ thì loại giả thiết $H_0$. Tức là các feature không đồng nhất về phương sai."
   ]
  },
  {
   "cell_type": "code",
   "execution_count": 36,
   "metadata": {},
   "outputs": [
    {
     "name": "stdout",
     "output_type": "stream",
     "text": [
      "3.50418537162429e-15 0.9999999527682978\n",
      "Không thể bác bỏ giả thiết H0. Các feature đồng nhất về phương sai\n",
      "Đủ điều kiện đê phân tích ANOVA\n"
     ]
    }
   ],
   "source": [
    "from scipy.stats import bartlett\n",
    "stat_bartlett, p_bartlett = bartlett(female, male)\n",
    "print(stat_bartlett, p_bartlett)\n",
    "if p_bartlett > 0.05:\n",
    "    print('Không thể bác bỏ giả thiết H0. Các feature đồng nhất về phương sai')\n",
    "    print('Đủ điều kiện đê phân tích ANOVA')\n",
    "else:\n",
    "    print('Các feature không đồng nhất về phương sai')"
   ]
  },
  {
   "cell_type": "markdown",
   "metadata": {},
   "source": [
    "## Phân tích ANOVA"
   ]
  },
  {
   "cell_type": "code",
   "execution_count": 38,
   "metadata": {},
   "outputs": [
    {
     "name": "stdout",
     "output_type": "stream",
     "text": [
      "P_value =  1.0\n",
      "Không đủ bằng chứng bác bỏ giả thuyết H0. Điều này ngụ ý rằng không có sự khác biệt giữa các giới tính trong giảm cân.\n"
     ]
    }
   ],
   "source": [
    "from scipy.stats import f_oneway\n",
    "std3 , p3 = f_oneway(female, male)\n",
    "print('P_value = ',p3)\n",
    "alpha = 0.05\n",
    "if (p3 < alpha):\n",
    "    print('Có bằng chứng bác bỏ giả thuyết H0. Điều này ngụ ý rằng giữa các giới tính có sự khác biệt trong giảm cân')\n",
    "else:\n",
    "    print('Không đủ bằng chứng bác bỏ giả thuyết H0. Điều này ngụ ý rằng không có sự khác biệt giữa các giới tính trong giảm cân.')"
   ]
  },
  {
   "cell_type": "code",
   "execution_count": 39,
   "metadata": {},
   "outputs": [
    {
     "data": {
      "text/html": [
       "<div>\n",
       "<style scoped>\n",
       "    .dataframe tbody tr th:only-of-type {\n",
       "        vertical-align: middle;\n",
       "    }\n",
       "\n",
       "    .dataframe tbody tr th {\n",
       "        vertical-align: top;\n",
       "    }\n",
       "\n",
       "    .dataframe thead th {\n",
       "        text-align: right;\n",
       "    }\n",
       "</style>\n",
       "<table border=\"1\" class=\"dataframe\">\n",
       "  <thead>\n",
       "    <tr style=\"text-align: right;\">\n",
       "      <th></th>\n",
       "      <th>sum_sq</th>\n",
       "      <th>df</th>\n",
       "      <th>F</th>\n",
       "      <th>PR(&gt;F)</th>\n",
       "    </tr>\n",
       "  </thead>\n",
       "  <tbody>\n",
       "    <tr>\n",
       "      <th>C(gender)</th>\n",
       "      <td>0.278485</td>\n",
       "      <td>1.0</td>\n",
       "      <td>0.043786</td>\n",
       "      <td>0.834827</td>\n",
       "    </tr>\n",
       "    <tr>\n",
       "      <th>Residual</th>\n",
       "      <td>470.650331</td>\n",
       "      <td>74.0</td>\n",
       "      <td>NaN</td>\n",
       "      <td>NaN</td>\n",
       "    </tr>\n",
       "  </tbody>\n",
       "</table>\n",
       "</div>"
      ],
      "text/plain": [
       "               sum_sq    df         F    PR(>F)\n",
       "C(gender)    0.278485   1.0  0.043786  0.834827\n",
       "Residual   470.650331  74.0       NaN       NaN"
      ]
     },
     "execution_count": 39,
     "metadata": {},
     "output_type": "execute_result"
    }
   ],
   "source": [
    "# ANOVA Table\n",
    "\n",
    "import statsmodels.api as sm\n",
    "from statsmodels.formula.api import ols\n",
    "\n",
    "model = ols('weightlost ~ C(gender)', data=df).fit()\n",
    "aov_table = sm.stats.anova_lm(model, typ=2)\n",
    "aov_table"
   ]
  },
  {
   "cell_type": "markdown",
   "metadata": {},
   "source": [
    "### Hậu kiểm ANOVA: Do không đủ bằng chứng bác bỏ nên ta bỏ qua bước kiểm tra hậu nghiệm."
   ]
  },
  {
   "cell_type": "code",
   "execution_count": 39,
   "metadata": {
    "scrolled": false
   },
   "outputs": [
    {
     "data": {
      "image/png": "[encoded data removed]",
      "text/plain": [
       "<Figure size 576x396 with 1 Axes>"
      ]
     },
     "metadata": {},
     "output_type": "display_data"
    }
   ],
   "source": [
    "### Kỹ thuật EDA:\n",
    "data42 = data42.replace(to_replace =['0','1'], \n",
    "                            value =['Female','Male'])\n",
    "sns.boxplot(x='gender', y='weightlost', data=data42, palette='flare')\n",
    "sns.swarmplot(x=\"gender\", y=\"weightlost\", data=data42, color='red')\n",
    "plt.title('Compare gender', size=18)\n",
    "plt.xticks(size=15)\n",
    "plt.xlabel('Gender',fontsize=15)\n",
    "plt.ylabel('Weight Lost',fontsize=15)\n",
    "plt.show()"
   ]
  },
  {
   "cell_type": "markdown",
   "metadata": {},
   "source": [
    "# Task5: Two-way ANOVA\n",
    "### Effect of diet and gender on weight lost"
   ]
  },
  {
   "cell_type": "code",
   "execution_count": 40,
   "metadata": {},
   "outputs": [
    {
     "data": {
      "text/html": [
       "<div>\n",
       "<style scoped>\n",
       "    .dataframe tbody tr th:only-of-type {\n",
       "        vertical-align: middle;\n",
       "    }\n",
       "\n",
       "    .dataframe tbody tr th {\n",
       "        vertical-align: top;\n",
       "    }\n",
       "\n",
       "    .dataframe thead th {\n",
       "        text-align: right;\n",
       "    }\n",
       "</style>\n",
       "<table border=\"1\" class=\"dataframe\">\n",
       "  <thead>\n",
       "    <tr style=\"text-align: right;\">\n",
       "      <th></th>\n",
       "      <th>sum_sq</th>\n",
       "      <th>df</th>\n",
       "      <th>F</th>\n",
       "      <th>PR(&gt;F)</th>\n",
       "    </tr>\n",
       "  </thead>\n",
       "  <tbody>\n",
       "    <tr>\n",
       "      <th>C(Diet)</th>\n",
       "      <td>60.417220</td>\n",
       "      <td>2.0</td>\n",
       "      <td>5.619026</td>\n",
       "      <td>0.005456</td>\n",
       "    </tr>\n",
       "    <tr>\n",
       "      <th>C(gender)</th>\n",
       "      <td>0.168696</td>\n",
       "      <td>1.0</td>\n",
       "      <td>0.031379</td>\n",
       "      <td>0.859910</td>\n",
       "    </tr>\n",
       "    <tr>\n",
       "      <th>C(Diet):C(gender)</th>\n",
       "      <td>33.904068</td>\n",
       "      <td>2.0</td>\n",
       "      <td>3.153204</td>\n",
       "      <td>0.048842</td>\n",
       "    </tr>\n",
       "    <tr>\n",
       "      <th>Residual</th>\n",
       "      <td>376.329043</td>\n",
       "      <td>70.0</td>\n",
       "      <td>NaN</td>\n",
       "      <td>NaN</td>\n",
       "    </tr>\n",
       "  </tbody>\n",
       "</table>\n",
       "</div>"
      ],
      "text/plain": [
       "                       sum_sq    df         F    PR(>F)\n",
       "C(Diet)             60.417220   2.0  5.619026  0.005456\n",
       "C(gender)            0.168696   1.0  0.031379  0.859910\n",
       "C(Diet):C(gender)   33.904068   2.0  3.153204  0.048842\n",
       "Residual           376.329043  70.0       NaN       NaN"
      ]
     },
     "execution_count": 40,
     "metadata": {},
     "output_type": "execute_result"
    }
   ],
   "source": [
    "import statsmodels.api as sm\n",
    "from statsmodels.formula.api import ols\n",
    "\n",
    "#perform two-way ANOVA\n",
    "model = ols('weightlost ~ C(Diet) + C(gender) + C(Diet):C(gender)', data=df).fit()\n",
    "sm.stats.anova_lm(model, typ=2)"
   ]
  },
  {
   "cell_type": "markdown",
   "metadata": {},
   "source": [
    "# Task6: Interactions\n",
    "### Means plot of weight lost by diet and gender"
   ]
  },
  {
   "cell_type": "code",
   "execution_count": 41,
   "metadata": {},
   "outputs": [
    {
     "name": "stderr",
     "output_type": "stream",
     "text": [
      "<ipython-input-41-2c178fd97bb1>:2: SettingWithCopyWarning: \n",
      "A value is trying to be set on a copy of a slice from a DataFrame.\n",
      "Try using .loc[row_indexer,col_indexer] = value instead\n",
      "\n",
      "See the caveats in the documentation: https://pandas.pydata.org/pandas-docs/stable/user_guide/indexing.html#returning-a-view-versus-a-copy\n",
      "  task6['gender'] = task6['gender'].replace(to_replace =['0' ,'1'],\n"
     ]
    },
    {
     "data": {
      "text/html": [
       "<div>\n",
       "<style scoped>\n",
       "    .dataframe tbody tr th:only-of-type {\n",
       "        vertical-align: middle;\n",
       "    }\n",
       "\n",
       "    .dataframe tbody tr th {\n",
       "        vertical-align: top;\n",
       "    }\n",
       "\n",
       "    .dataframe thead th {\n",
       "        text-align: right;\n",
       "    }\n",
       "</style>\n",
       "<table border=\"1\" class=\"dataframe\">\n",
       "  <thead>\n",
       "    <tr style=\"text-align: right;\">\n",
       "      <th></th>\n",
       "      <th>gender</th>\n",
       "      <th>Diet</th>\n",
       "      <th>weightlost</th>\n",
       "    </tr>\n",
       "    <tr>\n",
       "      <th>Person</th>\n",
       "      <th></th>\n",
       "      <th></th>\n",
       "      <th></th>\n",
       "    </tr>\n",
       "  </thead>\n",
       "  <tbody>\n",
       "    <tr>\n",
       "      <th>44</th>\n",
       "      <td>Male</td>\n",
       "      <td>2</td>\n",
       "      <td>3.5</td>\n",
       "    </tr>\n",
       "    <tr>\n",
       "      <th>49</th>\n",
       "      <td>Male</td>\n",
       "      <td>2</td>\n",
       "      <td>7.9</td>\n",
       "    </tr>\n",
       "    <tr>\n",
       "      <th>30</th>\n",
       "      <td>Female</td>\n",
       "      <td>2</td>\n",
       "      <td>4.3</td>\n",
       "    </tr>\n",
       "    <tr>\n",
       "      <th>4</th>\n",
       "      <td>Female</td>\n",
       "      <td>1</td>\n",
       "      <td>2.9</td>\n",
       "    </tr>\n",
       "    <tr>\n",
       "      <th>27</th>\n",
       "      <td>Female</td>\n",
       "      <td>2</td>\n",
       "      <td>-2.1</td>\n",
       "    </tr>\n",
       "  </tbody>\n",
       "</table>\n",
       "</div>"
      ],
      "text/plain": [
       "        gender  Diet  weightlost\n",
       "Person                          \n",
       "44        Male     2         3.5\n",
       "49        Male     2         7.9\n",
       "30      Female     2         4.3\n",
       "4       Female     1         2.9\n",
       "27      Female     2        -2.1"
      ]
     },
     "execution_count": 41,
     "metadata": {},
     "output_type": "execute_result"
    }
   ],
   "source": [
    "task6 = df[['gender','Diet','weightlost']]\n",
    "task6['gender'] = task6['gender'].replace(to_replace =['0' ,'1'], \n",
    "                            value =['Female','Male'])\n",
    "task6.sample(5)"
   ]
  },
  {
   "cell_type": "code",
   "execution_count": 42,
   "metadata": {},
   "outputs": [
    {
     "data": {
      "text/plain": [
       "Text(0.5, 1.0, 'Means plot of weight lost by diet and gender')"
      ]
     },
     "execution_count": 42,
     "metadata": {},
     "output_type": "execute_result"
    },
    {
     "data": {
      "image/png": "[encoded data removed]",
      "text/plain": [
       "<Figure size 576x396 with 1 Axes>"
      ]
     },
     "metadata": {},
     "output_type": "display_data"
    }
   ],
   "source": [
    "sns.set_theme(style=\"whitegrid\")\n",
    "g=sns.barplot(x=\"Diet\", y=\"weightlost\", hue=\"gender\", data=task6, palette=['r','b'])\n",
    "g.set_xticklabels([\"Type 1\", \"Type 2\", \"Type 3\"])\n",
    "g.set(ylim=(0, 7))\n",
    "plt.title('Means plot of weight lost by diet and gender', size=20)"
   ]
  },
  {
   "cell_type": "markdown",
   "metadata": {},
   "source": [
    "# Task7: ANCOVA\n",
    "### Add height to either ANOVA"
   ]
  },
  {
   "cell_type": "code",
   "execution_count": 43,
   "metadata": {},
   "outputs": [],
   "source": [
    "df['gender']=pd.to_numeric(df['gender'])"
   ]
  },
  {
   "cell_type": "code",
   "execution_count": 44,
   "metadata": {},
   "outputs": [
    {
     "data": {
      "text/html": [
       "<div>\n",
       "<style scoped>\n",
       "    .dataframe tbody tr th:only-of-type {\n",
       "        vertical-align: middle;\n",
       "    }\n",
       "\n",
       "    .dataframe tbody tr th {\n",
       "        vertical-align: top;\n",
       "    }\n",
       "\n",
       "    .dataframe thead th {\n",
       "        text-align: right;\n",
       "    }\n",
       "</style>\n",
       "<table border=\"1\" class=\"dataframe\">\n",
       "  <thead>\n",
       "    <tr style=\"text-align: right;\">\n",
       "      <th></th>\n",
       "      <th>Source</th>\n",
       "      <th>SS</th>\n",
       "      <th>DF</th>\n",
       "      <th>F</th>\n",
       "      <th>p-unc</th>\n",
       "      <th>np2</th>\n",
       "    </tr>\n",
       "  </thead>\n",
       "  <tbody>\n",
       "    <tr>\n",
       "      <th>0</th>\n",
       "      <td>Diet</td>\n",
       "      <td>54.939344</td>\n",
       "      <td>2</td>\n",
       "      <td>4.824629</td>\n",
       "      <td>0.010807</td>\n",
       "      <td>0.118179</td>\n",
       "    </tr>\n",
       "    <tr>\n",
       "      <th>1</th>\n",
       "      <td>Height</td>\n",
       "      <td>0.460119</td>\n",
       "      <td>1</td>\n",
       "      <td>0.080813</td>\n",
       "      <td>0.777015</td>\n",
       "      <td>0.001121</td>\n",
       "    </tr>\n",
       "    <tr>\n",
       "      <th>2</th>\n",
       "      <td>Residual</td>\n",
       "      <td>409.941688</td>\n",
       "      <td>72</td>\n",
       "      <td>NaN</td>\n",
       "      <td>NaN</td>\n",
       "      <td>NaN</td>\n",
       "    </tr>\n",
       "  </tbody>\n",
       "</table>\n",
       "</div>"
      ],
      "text/plain": [
       "     Source          SS  DF         F     p-unc       np2\n",
       "0      Diet   54.939344   2  4.824629  0.010807  0.118179\n",
       "1    Height    0.460119   1  0.080813  0.777015  0.001121\n",
       "2  Residual  409.941688  72       NaN       NaN       NaN"
      ]
     },
     "execution_count": 44,
     "metadata": {},
     "output_type": "execute_result"
    }
   ],
   "source": [
    "from pingouin import ancova\n",
    "ancova(data=df, dv='weightlost', covar='Height', between='Diet')"
   ]
  },
  {
   "cell_type": "code",
   "execution_count": null,
   "metadata": {},
   "outputs": [],
   "source": []
  },
  {
   "cell_type": "code",
   "execution_count": null,
   "metadata": {},
   "outputs": [],
   "source": []
  },
  {
   "cell_type": "code",
   "execution_count": null,
   "metadata": {},
   "outputs": [],
   "source": []
  }
 ],
 "metadata": {
  "kernelspec": {
   "display_name": "Python 3",
   "language": "python",
   "name": "python3"
  },
  "language_info": {
   "codemirror_mode": {
    "name": "ipython",
    "version": 3
   },
   "file_extension": ".py",
   "mimetype": "text/x-python",
   "name": "python",
   "nbconvert_exporter": "python",
   "pygments_lexer": "ipython3",
   "version": "3.8.5"
  }
 },
 "nbformat": 4,
 "nbformat_minor": 4
}
